{
 "cells": [
  {
   "cell_type": "code",
   "execution_count": 38,
   "metadata": {},
   "outputs": [
    {
     "name": "stdout",
     "output_type": "stream",
     "text": [
      "1234567892\n",
      "212\n",
      "3\n",
      "Invalid Number\n"
     ]
    }
   ],
   "source": [
    "def isbncheck():\n",
    "    mynumber=\"0\"\n",
    "    while len(mynumber)!=10:\n",
    "        mynumber = input(\"Enter 10 digit number\")\n",
    "    mynumber=mynumber.upper()\n",
    "    print(mynumber)\n",
    "    psum=0\n",
    "    for i in range(0,9):\n",
    "        psum=psum+(10-i)*(int(mynumber[i]))\n",
    "    if mynumber[9]=='X':\n",
    "        psum=psum+10\n",
    "    else:\n",
    "        psum=psum+int(mynumber[9])\n",
    "    print(psum)\n",
    "    print(psum%11)\n",
    "    if psum%11==0:\n",
    "        print(\"Valid ISBN Number\")\n",
    "    else:\n",
    "        print(\"Invalid Number\")\n",
    "\n",
    "isbncheck()"
   ]
  },
  {
   "cell_type": "code",
   "execution_count": null,
   "metadata": {},
   "outputs": [],
   "source": []
  }
 ],
 "metadata": {
  "kernelspec": {
   "display_name": "Python 3",
   "language": "python",
   "name": "python3"
  },
  "language_info": {
   "codemirror_mode": {
    "name": "ipython",
    "version": 3
   },
   "file_extension": ".py",
   "mimetype": "text/x-python",
   "name": "python",
   "nbconvert_exporter": "python",
   "pygments_lexer": "ipython3",
   "version": "3.11.1"
  },
  "orig_nbformat": 4
 },
 "nbformat": 4,
 "nbformat_minor": 2
}
