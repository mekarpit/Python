{
 "cells": [
  {
   "cell_type": "code",
   "execution_count": 2,
   "metadata": {},
   "outputs": [],
   "source": [
    "import pandas as pd\n",
    "import numpy as np\n",
    "import seaborn as sns"
   ]
  },
  {
   "cell_type": "code",
   "execution_count": 3,
   "metadata": {},
   "outputs": [],
   "source": [
    "#ccdata = pd.read_excel(\"Credit Card Data.xlsx\").convert_dtypes()\n",
    "#ccdata.index += 1\n",
    "customer = pd.read_csv(\"Customer Acqusition.csv\").convert_dtypes()\n",
    "customer.index += 1\n",
    "repayment = pd.read_csv(\"Repayment.csv\").convert_dtypes()\n",
    "repayment.index += 1\n",
    "spend = pd.read_csv(\"spend.csv\").convert_dtypes()\n",
    "spend.index += 1"
   ]
  },
  {
   "cell_type": "code",
   "execution_count": 7,
   "metadata": {},
   "outputs": [],
   "source": [
    "#ccdata.drop(columns='No', inplace=True)\n",
    "customer.drop(columns='No',inplace=True)\n",
    "repayment.drop(columns={'SL No:','Unnamed: 4'},inplace=True)\n",
    "spend.drop(columns='Sl No:',inplace=True)"
   ]
  },
  {
   "cell_type": "code",
   "execution_count": 25,
   "metadata": {},
   "outputs": [
    {
     "name": "stdout",
     "output_type": "stream",
     "text": [
      "Customer    string[python]\n",
      "Age                  int32\n",
      "City        string[python]\n",
      "Product     string[python]\n",
      "Limit                Int64\n",
      "Company     string[python]\n",
      "Segment     string[python]\n",
      "dtype: object\n",
      "Customer    string[python]\n",
      "Age                  Int64\n",
      "City        string[python]\n",
      "Product     string[python]\n",
      "Limit                Int64\n",
      "Company     string[python]\n",
      "Segment     string[python]\n",
      "dtype: object\n",
      "Customer    string[python]\n",
      "Month       datetime64[ns]\n",
      "Amount             Float64\n",
      "dtype: object\n",
      "Customer    string[python]\n",
      "Month       datetime64[ns]\n",
      "Type        string[python]\n",
      "Amount             Float64\n",
      "dtype: object\n"
     ]
    }
   ],
   "source": [
    "#print(ccdata.dtypes)\n",
    "print(customer.dtypes)\n",
    "print(repayment.dtypes)\n",
    "print(spend.dtypes)\n"
   ]
  },
  {
   "cell_type": "code",
   "execution_count": 5,
   "metadata": {},
   "outputs": [],
   "source": [
    "#ccdata['Age']=ccdata['Age'].astype(int)"
   ]
  },
  {
   "cell_type": "code",
   "execution_count": 10,
   "metadata": {},
   "outputs": [
    {
     "name": "stderr",
     "output_type": "stream",
     "text": [
      "C:\\Users\\karpi\\AppData\\Local\\Temp\\ipykernel_12604\\404343101.py:2: UserWarning: Could not infer format, so each element will be parsed individually, falling back to `dateutil`. To ensure parsing is consistent and as-expected, please specify a format.\n",
      "  spend['Month']=pd.to_datetime(spend['Month'])\n"
     ]
    }
   ],
   "source": [
    "repayment['Month']=pd.to_datetime(repayment['Month'])\n",
    "spend['Month']=pd.to_datetime(spend['Month'])"
   ]
  },
  {
   "cell_type": "code",
   "execution_count": 15,
   "metadata": {},
   "outputs": [
    {
     "data": {
      "text/plain": [
       "Customer    0\n",
       "Age         0\n",
       "City        0\n",
       "Product     0\n",
       "Limit       0\n",
       "Company     0\n",
       "Segment     0\n",
       "dtype: int64"
      ]
     },
     "execution_count": 15,
     "metadata": {},
     "output_type": "execute_result"
    }
   ],
   "source": [
    "#ccdata.isnull().sum()"
   ]
  },
  {
   "cell_type": "code",
   "execution_count": 16,
   "metadata": {},
   "outputs": [
    {
     "data": {
      "text/plain": [
       "Customer    0\n",
       "Age         0\n",
       "City        0\n",
       "Product     0\n",
       "Limit       0\n",
       "Company     0\n",
       "Segment     0\n",
       "dtype: int64"
      ]
     },
     "execution_count": 16,
     "metadata": {},
     "output_type": "execute_result"
    }
   ],
   "source": [
    "customer.isnull().sum()"
   ]
  },
  {
   "cell_type": "code",
   "execution_count": 17,
   "metadata": {},
   "outputs": [
    {
     "data": {
      "text/plain": [
       "Customer    0\n",
       "Month       0\n",
       "Amount      0\n",
       "dtype: int64"
      ]
     },
     "execution_count": 17,
     "metadata": {},
     "output_type": "execute_result"
    }
   ],
   "source": [
    "repayment.isnull().sum()"
   ]
  },
  {
   "cell_type": "code",
   "execution_count": 13,
   "metadata": {},
   "outputs": [],
   "source": [
    "repayment.dropna(inplace=True)"
   ]
  },
  {
   "cell_type": "code",
   "execution_count": 18,
   "metadata": {},
   "outputs": [
    {
     "data": {
      "text/plain": [
       "Customer    0\n",
       "Month       0\n",
       "Type        0\n",
       "Amount      0\n",
       "dtype: int64"
      ]
     },
     "execution_count": 18,
     "metadata": {},
     "output_type": "execute_result"
    }
   ],
   "source": [
    "spend.isnull().sum()"
   ]
  },
  {
   "cell_type": "code",
   "execution_count": 28,
   "metadata": {},
   "outputs": [],
   "source": [
    "#Answer 1a:\n",
    "customer['Age']=np.where(customer.Age<18,customer.Age.mean(),customer.Age)"
   ]
  },
  {
   "cell_type": "code",
   "execution_count": 33,
   "metadata": {},
   "outputs": [],
   "source": [
    "#Answer 1b:\n",
    "cust_spend = spend.merge(customer,on = \"Customer\",how='left')\n",
    "cust_spend['Amount']=np.where(cust_spend.Amount>cust_spend.Limit,cust_spend.Amount/2,cust_spend.Amount)"
   ]
  },
  {
   "cell_type": "code",
   "execution_count": 34,
   "metadata": {},
   "outputs": [],
   "source": [
    "#Answer 1c:\n",
    "cust_repay = repayment.merge(customer,on = \"Customer\",how='left')\n",
    "cust_repay['Amount']=np.where(cust_repay.Amount>cust_repay.Limit,cust_repay.Limit,cust_repay.Amount)"
   ]
  },
  {
   "cell_type": "code",
   "execution_count": 45,
   "metadata": {},
   "outputs": [
    {
     "name": "stdout",
     "output_type": "stream",
     "text": [
      "distinct customers are :  100\n"
     ]
    }
   ],
   "source": [
    "#Answer 2a:\n",
    "print(\"distinct customers are : \",cust_repay['Customer'].nunique())"
   ]
  },
  {
   "cell_type": "code",
   "execution_count": 46,
   "metadata": {},
   "outputs": [
    {
     "name": "stdout",
     "output_type": "stream",
     "text": [
      "distinct categories are :  5\n"
     ]
    }
   ],
   "source": [
    "#Answer 2b:\n",
    "print(\"distinct categories are : \",cust_repay['Segment'].nunique())"
   ]
  },
  {
   "cell_type": "code",
   "execution_count": 56,
   "metadata": {},
   "outputs": [
    {
     "data": {
      "text/plain": [
       "Month\n",
       "1     256221.0\n",
       "2     233037.0\n",
       "3     246256.0\n",
       "4     236672.0\n",
       "5     241277.0\n",
       "6     241329.0\n",
       "7     268042.0\n",
       "8     236056.0\n",
       "9     219370.0\n",
       "10    215352.0\n",
       "11    249100.0\n",
       "12    208987.0\n",
       "Name: Amount, dtype: Float64"
      ]
     },
     "execution_count": 56,
     "metadata": {},
     "output_type": "execute_result"
    }
   ],
   "source": [
    "#Answer 2c:\n",
    "round(spend.groupby(spend.Month.dt.month)['Amount'].mean(),0)"
   ]
  },
  {
   "cell_type": "code",
   "execution_count": 57,
   "metadata": {},
   "outputs": [
    {
     "data": {
      "text/plain": [
       "Month\n",
       "1     244402.0\n",
       "2     258172.0\n",
       "3     254893.0\n",
       "4     247516.0\n",
       "5     243373.0\n",
       "6     244673.0\n",
       "7     224554.0\n",
       "8     243773.0\n",
       "9     223082.0\n",
       "10    264390.0\n",
       "11    242931.0\n",
       "12    265276.0\n",
       "Name: Amount, dtype: Float64"
      ]
     },
     "execution_count": 57,
     "metadata": {},
     "output_type": "execute_result"
    }
   ],
   "source": [
    "#Answer 2d:\n",
    "round(repayment.groupby(spend.Month.dt.month)['Amount'].mean(),0)"
   ]
  },
  {
   "cell_type": "code",
   "execution_count": 62,
   "metadata": {},
   "outputs": [
    {
     "data": {
      "text/plain": [
       "583784.7322899998"
      ]
     },
     "execution_count": 62,
     "metadata": {},
     "output_type": "execute_result"
    }
   ],
   "source": [
    "#Answer 2e:\n",
    "profit = spend.groupby(spend.Month.dt.month)['Amount'].sum()-repayment.groupby(repayment.Month.dt.month)['Amount'].sum()\n",
    "profit[profit>0].sum()*.029"
   ]
  },
  {
   "cell_type": "code",
   "execution_count": 75,
   "metadata": {},
   "outputs": [
    {
     "data": {
      "text/plain": [
       "Index(['PETRO', 'CAMERA', 'FOOD', 'TRAIN TICKET', 'AIR TICKET'], dtype='string', name='Type')"
      ]
     },
     "execution_count": 75,
     "metadata": {},
     "output_type": "execute_result"
    }
   ],
   "source": [
    "#Answer 2f:\n",
    "spend.groupby('Type')['Amount'].sum().sort_values(ascending=False).index[0:5]"
   ]
  },
  {
   "cell_type": "code",
   "execution_count": 73,
   "metadata": {},
   "outputs": [
    {
     "data": {
      "text/plain": [
       "'COCHIN'"
      ]
     },
     "execution_count": 73,
     "metadata": {},
     "output_type": "execute_result"
    }
   ],
   "source": [
    "#Answer 2g:\n",
    "cust_spend.groupby('City')['Amount'].sum().sort_values(ascending=False).index[0]"
   ]
  },
  {
   "cell_type": "code",
   "execution_count": 78,
   "metadata": {},
   "outputs": [
    {
     "data": {
      "text/plain": [
       "'45-60'"
      ]
     },
     "execution_count": 78,
     "metadata": {},
     "output_type": "execute_result"
    }
   ],
   "source": [
    "#Answer 2h:\n",
    "mybin = [0,7,12,18,25,35,45,60,70,80,100]\n",
    "mybin_label = ['0-7','7-12','12-18','18-25','25-35','35-45','45-60','60-70','70-80','80-100']\n",
    "\n",
    "cust_spend['Age_Grp']=pd.cut(cust_spend['Age'],bins=mybin,labels=mybin_label)\n",
    "\n",
    "cust_spend.groupby('Age_Grp')['Amount'].sum().sort_values(ascending=False).index[0]"
   ]
  },
  {
   "cell_type": "code",
   "execution_count": 79,
   "metadata": {},
   "outputs": [
    {
     "data": {
      "text/plain": [
       "Index(['A61', 'A60', 'A13', 'A43', 'A45', 'A12', 'A14', 'A44', 'A39', 'A42'], dtype='string', name='Customer')"
      ]
     },
     "execution_count": 79,
     "metadata": {},
     "output_type": "execute_result"
    }
   ],
   "source": [
    "#Answer 2i:\n",
    "cust_repay.groupby('Customer')['Amount'].sum().sort_values(ascending=False).index[0:10]\n"
   ]
  },
  {
   "cell_type": "code",
   "execution_count": 86,
   "metadata": {},
   "outputs": [
    {
     "name": "stdout",
     "output_type": "stream",
     "text": [
      "Product       Gold                                   Platimum                \n",
      "Month             2004         2005         2006         2004         2005   \n",
      "City                                                                         \n",
      "BANGALORE   9289878.54  12892362.99  12030611.09  3204736.365  4038229.825  \\\n",
      "BOMBAY      6987853.53   8983018.28   7917144.31   2678414.22   2577931.21   \n",
      "CALCUTTA    7477140.98   10303355.8  11167532.77  3914422.865   6479983.42   \n",
      "CHENNAI      1059618.5   3740945.58   2704288.62   4529612.53  6928695.875   \n",
      "COCHIN      7315850.15  12110613.03  10499142.38   5741362.15  7673817.265   \n",
      "DELHI        2806495.0   1964845.27   2957103.32   824353.395   1106318.76   \n",
      "PATNA        2072567.9   3252615.77   2276181.69    1113069.6   2883231.07   \n",
      "TRIVANDRUM  2415102.84   1240375.85   2735710.87   2944053.77  5359099.325   \n",
      "\n",
      "Product                     Silver                              \n",
      "Month              2006         2004         2005         2006  \n",
      "City                                                            \n",
      "BANGALORE   2945860.815  3532870.115   2008335.53    2816709.8  \n",
      "BOMBAY      3877328.615  1546947.055  1188681.505  2110849.085  \n",
      "CALCUTTA    7262557.095   1660981.55   737877.085   2645564.09  \n",
      "CHENNAI     5945527.095   644090.865   638860.985    832663.31  \n",
      "COCHIN       8394772.56   2350977.91  1360743.315   2574612.87  \n",
      "DELHI        420516.725   2155693.29    1363716.9   2343361.13  \n",
      "PATNA        1256137.65  1777737.375  2672426.545  1555955.655  \n",
      "TRIVANDRUM   3133435.85   402781.335    732725.56   1055899.99  \n"
     ]
    },
    {
     "data": {
      "image/png": "[encoded data removed]",
      "text/plain": [
       "<Figure size 640x480 with 1 Axes>"
      ]
     },
     "metadata": {},
     "output_type": "display_data"
    }
   ],
   "source": [
    "#Answer 3:\n",
    "import matplotlib.pyplot as plt\n",
    "abc = pd.pivot_table(data=cust_spend,values='Amount',columns=['Product',cust_spend.Month.dt.year],index='City',aggfunc='sum')\n",
    "print(abc)\n",
    "abc.plot(kind='bar',stacked=\"True\")\n",
    "plt.show()"
   ]
  },
  {
   "cell_type": "code",
   "execution_count": 88,
   "metadata": {},
   "outputs": [
    {
     "data": {
      "text/plain": [
       "<function matplotlib.pyplot.show(close=None, block=None)>"
      ]
     },
     "execution_count": 88,
     "metadata": {},
     "output_type": "execute_result"
    },
    {
     "data": {
      "image/png": "[encoded data removed]",
      "text/plain": [
       "<Figure size 640x480 with 1 Axes>"
      ]
     },
     "metadata": {},
     "output_type": "display_data"
    }
   ],
   "source": [
    "#Answer 4a:\n",
    "pd.pivot_table(cust_spend,index=cust_spend.Month.dt.month,columns='City',values=\"Amount\",aggfunc='sum').plot(kind='bar',stacked='True')\n",
    "plt.show"
   ]
  },
  {
   "cell_type": "code",
   "execution_count": 93,
   "metadata": {},
   "outputs": [
    {
     "data": {
      "image/png": "[encoded data removed]",
      "text/plain": [
       "<Figure size 640x480 with 1 Axes>"
      ]
     },
     "metadata": {},
     "output_type": "display_data"
    }
   ],
   "source": [
    "#Answer 4b:\n",
    "pd.pivot_table(data=spend[spend['Type']=='AIR TICKET'],values='Amount',columns=spend.Month.dt.year,index='Type',aggfunc='sum').plot(kind='bar')\n",
    "plt.show()"
   ]
  },
  {
   "cell_type": "code",
   "execution_count": 90,
   "metadata": {},
   "outputs": [
    {
     "data": {
      "image/png": "[encoded data removed]",
      "text/plain": [
       "<Figure size 640x480 with 1 Axes>"
      ]
     },
     "metadata": {},
     "output_type": "display_data"
    }
   ],
   "source": [
    "#Answer 4c:\n",
    "pd.pivot_table(data=cust_spend,index=cust_spend.Month.dt.month, columns='Product',values='Amount',aggfunc='sum').plot(kind='bar')\n",
    "plt.show()"
   ]
  },
  {
   "cell_type": "code",
   "execution_count": 95,
   "metadata": {},
   "outputs": [
    {
     "name": "stdout",
     "output_type": "stream",
     "text": [
      "Silver Yearly\n",
      "                               Amount\n",
      "Customer City       Month            \n",
      "A24      DELHI      2005   1184870.98\n",
      "A22      BOMBAY     2005   1141542.81\n",
      "A46      PATNA      2005   1116730.89\n",
      "A25      COCHIN     2006      1000030\n",
      "A23      BANGALORE  2005      1000010\n",
      "A57      TRIVANDRUM 2004      1000010\n",
      "A22      BOMBAY     2004    953419.47\n",
      "                    2006    945271.83\n",
      "A23      BANGALORE  2006    872925.32\n",
      "A46      PATNA      2006    839228.07\n"
     ]
    }
   ],
   "source": [
    "product= input('Enter product Gold/Silver/Platinum : ')\n",
    "time_period = input('Enter time period monthly/yearly : ')\n",
    "def my_func(data,prod,time):\n",
    "    print(product,time_period)\n",
    "    if time=='Yearly':\n",
    "        return pd.pivot_table(data=data[data['Product']==prod],index=['Customer','City',data.Month.dt.year],values='Amount',aggfunc='sum').sort_values(by='Amount',ascending=False).iloc[0:10]\n",
    "    elif time=='Monthly':\n",
    "        return pd.pivot_table(data=data[data['Product']==prod],index=['Customer','City',data.Month.dt.month],values='Amount',aggfunc='sum').sort_values(by='Amount',ascending=False).iloc[0:10]\n",
    "\n",
    "print(my_func(cust_repay,product,time_period))"
   ]
  },
  {
   "cell_type": "code",
   "execution_count": null,
   "metadata": {},
   "outputs": [],
   "source": []
  }
 ],
 "metadata": {
  "kernelspec": {
   "display_name": "Python 3",
   "language": "python",
   "name": "python3"
  },
  "language_info": {
   "codemirror_mode": {
    "name": "ipython",
    "version": 3
   },
   "file_extension": ".py",
   "mimetype": "text/x-python",
   "name": "python",
   "nbconvert_exporter": "python",
   "pygments_lexer": "ipython3",
   "version": "3.11.1"
  },
  "orig_nbformat": 4
 },
 "nbformat": 4,
 "nbformat_minor": 2
}
