{
 "cells": [
  {
   "cell_type": "code",
   "execution_count": 1,
   "metadata": {},
   "outputs": [],
   "source": [
    "import pandas as pd\n",
    "import numpy as np"
   ]
  },
  {
   "cell_type": "code",
   "execution_count": 2,
   "metadata": {},
   "outputs": [],
   "source": [
    "customers = pd.read_csv(\"customer.csv\")\n",
    "productinfo = pd.read_csv(\"prod_cat_info.csv\")\n",
    "transactions = pd.read_csv(\"Transactions.csv\")"
   ]
  },
  {
   "cell_type": "code",
   "execution_count": 3,
   "metadata": {},
   "outputs": [
    {
     "name": "stdout",
     "output_type": "stream",
     "text": [
      "Index(['customer_Id', 'DOB', 'Gender', 'city_code'], dtype='object')\n",
      "Index(['prod_cat_code', 'prod_cat', 'prod_sub_cat_code', 'prod_subcat'], dtype='object')\n",
      "Index(['transaction_id', 'cust_id', 'tran_date', 'prod_subcat_code',\n",
      "       'prod_cat_code', 'Qty', 'Rate', 'Tax', 'total_amt', 'Store_type'],\n",
      "      dtype='object')\n"
     ]
    }
   ],
   "source": [
    "print(customers.columns)\n",
    "print(productinfo.columns)\n",
    "print(transactions.columns)"
   ]
  },
  {
   "cell_type": "code",
   "execution_count": 4,
   "metadata": {},
   "outputs": [],
   "source": [
    "Customer1 = pd.merge(customers,transactions,how='inner',left_on=['customer_Id'],right_on=['cust_id'])"
   ]
  },
  {
   "cell_type": "code",
   "execution_count": 5,
   "metadata": {},
   "outputs": [],
   "source": [
    "customer = pd.merge(Customer1,productinfo,how = 'inner',left_on=['prod_cat_code','prod_subcat_code'],right_on=['prod_cat_code','prod_sub_cat_code'])"
   ]
  },
  {
   "cell_type": "code",
   "execution_count": 6,
   "metadata": {},
   "outputs": [
    {
     "data": {
      "text/html": [
       "<div>\n",
       "<style scoped>\n",
       "    .dataframe tbody tr th:only-of-type {\n",
       "        vertical-align: middle;\n",
       "    }\n",
       "\n",
       "    .dataframe tbody tr th {\n",
       "        vertical-align: top;\n",
       "    }\n",
       "\n",
       "    .dataframe thead th {\n",
       "        text-align: right;\n",
       "    }\n",
       "</style>\n",
       "<table border=\"1\" class=\"dataframe\">\n",
       "  <thead>\n",
       "    <tr style=\"text-align: right;\">\n",
       "      <th></th>\n",
       "      <th>customer_Id</th>\n",
       "      <th>DOB</th>\n",
       "      <th>Gender</th>\n",
       "      <th>city_code</th>\n",
       "      <th>transaction_id</th>\n",
       "      <th>cust_id</th>\n",
       "      <th>tran_date</th>\n",
       "      <th>prod_subcat_code</th>\n",
       "      <th>prod_cat_code</th>\n",
       "      <th>Qty</th>\n",
       "      <th>Rate</th>\n",
       "      <th>Tax</th>\n",
       "      <th>total_amt</th>\n",
       "      <th>Store_type</th>\n",
       "      <th>prod_cat</th>\n",
       "      <th>prod_sub_cat_code</th>\n",
       "      <th>prod_subcat</th>\n",
       "    </tr>\n",
       "  </thead>\n",
       "  <tbody>\n",
       "    <tr>\n",
       "      <th>0</th>\n",
       "      <td>268408</td>\n",
       "      <td>02-01-1970</td>\n",
       "      <td>M</td>\n",
       "      <td>4.0</td>\n",
       "      <td>87243835584</td>\n",
       "      <td>268408</td>\n",
       "      <td>13-01-2014</td>\n",
       "      <td>7</td>\n",
       "      <td>5</td>\n",
       "      <td>5</td>\n",
       "      <td>187</td>\n",
       "      <td>98.175</td>\n",
       "      <td>1033.175</td>\n",
       "      <td>TeleShop</td>\n",
       "      <td>Books</td>\n",
       "      <td>7</td>\n",
       "      <td>Fiction</td>\n",
       "    </tr>\n",
       "    <tr>\n",
       "      <th>1</th>\n",
       "      <td>275152</td>\n",
       "      <td>16-01-1970</td>\n",
       "      <td>M</td>\n",
       "      <td>4.0</td>\n",
       "      <td>73109425404</td>\n",
       "      <td>275152</td>\n",
       "      <td>25-03-2011</td>\n",
       "      <td>7</td>\n",
       "      <td>5</td>\n",
       "      <td>2</td>\n",
       "      <td>464</td>\n",
       "      <td>97.440</td>\n",
       "      <td>1025.440</td>\n",
       "      <td>e-Shop</td>\n",
       "      <td>Books</td>\n",
       "      <td>7</td>\n",
       "      <td>Fiction</td>\n",
       "    </tr>\n",
       "    <tr>\n",
       "      <th>2</th>\n",
       "      <td>275034</td>\n",
       "      <td>18-01-1970</td>\n",
       "      <td>F</td>\n",
       "      <td>4.0</td>\n",
       "      <td>64777271023</td>\n",
       "      <td>275034</td>\n",
       "      <td>23-05-2011</td>\n",
       "      <td>7</td>\n",
       "      <td>5</td>\n",
       "      <td>2</td>\n",
       "      <td>197</td>\n",
       "      <td>41.370</td>\n",
       "      <td>435.370</td>\n",
       "      <td>Flagship store</td>\n",
       "      <td>Books</td>\n",
       "      <td>7</td>\n",
       "      <td>Fiction</td>\n",
       "    </tr>\n",
       "    <tr>\n",
       "      <th>3</th>\n",
       "      <td>270829</td>\n",
       "      <td>22-01-1970</td>\n",
       "      <td>F</td>\n",
       "      <td>8.0</td>\n",
       "      <td>87174343938</td>\n",
       "      <td>270829</td>\n",
       "      <td>9/12/2013</td>\n",
       "      <td>7</td>\n",
       "      <td>5</td>\n",
       "      <td>4</td>\n",
       "      <td>1141</td>\n",
       "      <td>479.220</td>\n",
       "      <td>5043.220</td>\n",
       "      <td>e-Shop</td>\n",
       "      <td>Books</td>\n",
       "      <td>7</td>\n",
       "      <td>Fiction</td>\n",
       "    </tr>\n",
       "    <tr>\n",
       "      <th>4</th>\n",
       "      <td>267657</td>\n",
       "      <td>29-01-1970</td>\n",
       "      <td>F</td>\n",
       "      <td>7.0</td>\n",
       "      <td>76242744953</td>\n",
       "      <td>267657</td>\n",
       "      <td>23-05-2013</td>\n",
       "      <td>7</td>\n",
       "      <td>5</td>\n",
       "      <td>4</td>\n",
       "      <td>1020</td>\n",
       "      <td>428.400</td>\n",
       "      <td>4508.400</td>\n",
       "      <td>e-Shop</td>\n",
       "      <td>Books</td>\n",
       "      <td>7</td>\n",
       "      <td>Fiction</td>\n",
       "    </tr>\n",
       "  </tbody>\n",
       "</table>\n",
       "</div>"
      ],
      "text/plain": [
       "   customer_Id         DOB Gender  city_code  transaction_id  cust_id  \\\n",
       "0       268408  02-01-1970      M        4.0     87243835584   268408   \n",
       "1       275152  16-01-1970      M        4.0     73109425404   275152   \n",
       "2       275034  18-01-1970      F        4.0     64777271023   275034   \n",
       "3       270829  22-01-1970      F        8.0     87174343938   270829   \n",
       "4       267657  29-01-1970      F        7.0     76242744953   267657   \n",
       "\n",
       "    tran_date  prod_subcat_code  prod_cat_code  Qty  Rate      Tax  total_amt  \\\n",
       "0  13-01-2014                 7              5    5   187   98.175   1033.175   \n",
       "1  25-03-2011                 7              5    2   464   97.440   1025.440   \n",
       "2  23-05-2011                 7              5    2   197   41.370    435.370   \n",
       "3   9/12/2013                 7              5    4  1141  479.220   5043.220   \n",
       "4  23-05-2013                 7              5    4  1020  428.400   4508.400   \n",
       "\n",
       "       Store_type prod_cat  prod_sub_cat_code prod_subcat  \n",
       "0        TeleShop    Books                  7     Fiction  \n",
       "1          e-Shop    Books                  7     Fiction  \n",
       "2  Flagship store    Books                  7     Fiction  \n",
       "3          e-Shop    Books                  7     Fiction  \n",
       "4          e-Shop    Books                  7     Fiction  "
      ]
     },
     "execution_count": 6,
     "metadata": {},
     "output_type": "execute_result"
    }
   ],
   "source": [
    "customer.head()"
   ]
  },
  {
   "cell_type": "code",
   "execution_count": 7,
   "metadata": {},
   "outputs": [],
   "source": [
    "customer.drop(columns={'cust_id','prod_sub_cat_code'},axis=1,inplace=True)"
   ]
  },
  {
   "cell_type": "code",
   "execution_count": 8,
   "metadata": {},
   "outputs": [],
   "source": [
    "customer.dropna(inplace=True)"
   ]
  },
  {
   "cell_type": "code",
   "execution_count": 9,
   "metadata": {},
   "outputs": [
    {
     "data": {
      "text/plain": [
       "customer_Id           int64\n",
       "DOB                  object\n",
       "Gender               object\n",
       "city_code           float64\n",
       "transaction_id        int64\n",
       "tran_date            object\n",
       "prod_subcat_code      int64\n",
       "prod_cat_code         int64\n",
       "Qty                   int64\n",
       "Rate                  int64\n",
       "Tax                 float64\n",
       "total_amt           float64\n",
       "Store_type           object\n",
       "prod_cat             object\n",
       "prod_subcat          object\n",
       "dtype: object"
      ]
     },
     "execution_count": 9,
     "metadata": {},
     "output_type": "execute_result"
    }
   ],
   "source": [
    "customer.dtypes"
   ]
  },
  {
   "cell_type": "code",
   "execution_count": 10,
   "metadata": {},
   "outputs": [],
   "source": [
    "customer['DOB']=pd.to_datetime(customer['DOB'],format='%d-%m-%Y').dt.date"
   ]
  },
  {
   "cell_type": "code",
   "execution_count": 11,
   "metadata": {},
   "outputs": [],
   "source": [
    "customer['tran_date']=customer['tran_date'].str.replace('/','-')"
   ]
  },
  {
   "cell_type": "code",
   "execution_count": 12,
   "metadata": {},
   "outputs": [],
   "source": [
    "customer['tran_date']=pd.to_datetime(customer['tran_date'],format='%d-%m-%Y').dt.date"
   ]
  },
  {
   "cell_type": "code",
   "execution_count": 13,
   "metadata": {},
   "outputs": [],
   "source": [
    "#customer.to_csv(\"customer_final.csv\",index=False)"
   ]
  },
  {
   "cell_type": "code",
   "execution_count": 14,
   "metadata": {},
   "outputs": [],
   "source": [
    "#customer=pd.read_csv(\"Customer_final.csv\")"
   ]
  },
  {
   "cell_type": "code",
   "execution_count": 15,
   "metadata": {},
   "outputs": [
    {
     "data": {
      "text/plain": [
       "customer_Id           int64\n",
       "DOB                  object\n",
       "Gender               object\n",
       "city_code           float64\n",
       "transaction_id        int64\n",
       "tran_date            object\n",
       "prod_subcat_code      int64\n",
       "prod_cat_code         int64\n",
       "Qty                   int64\n",
       "Rate                  int64\n",
       "Tax                 float64\n",
       "total_amt           float64\n",
       "Store_type           object\n",
       "prod_cat             object\n",
       "prod_subcat          object\n",
       "dtype: object"
      ]
     },
     "execution_count": 15,
     "metadata": {},
     "output_type": "execute_result"
    }
   ],
   "source": [
    "#Answer 2a\n",
    "customer.dtypes"
   ]
  },
  {
   "cell_type": "code",
   "execution_count": 16,
   "metadata": {},
   "outputs": [
    {
     "name": "stdout",
     "output_type": "stream",
     "text": [
      "    customer_Id         DOB Gender  city_code  transaction_id   tran_date  \\\n",
      "0        268408  1970-01-02      M        4.0     87243835584  2014-01-13   \n",
      "1        275152  1970-01-16      M        4.0     73109425404  2011-03-25   \n",
      "2        275034  1970-01-18      F        4.0     64777271023  2011-05-23   \n",
      "3        270829  1970-01-22      F        8.0     87174343938  2013-12-09   \n",
      "4        267657  1970-01-29      F        7.0     76242744953  2013-05-23   \n",
      "5        274630  1970-02-01      M        4.0     78357345891  2012-04-11   \n",
      "6        273541  1970-02-01      M        4.0     23916816961  2013-02-09   \n",
      "7        269008  1970-02-13      F        6.0     35560569829  2013-03-09   \n",
      "8        269008  1970-02-13      F        6.0     94033312891  2012-04-26   \n",
      "10       272883  1970-02-19      M        5.0     35308880657  2013-12-01   \n",
      "\n",
      "    prod_subcat_code  prod_cat_code  Qty  Rate      Tax  total_amt  \\\n",
      "0                  7              5    5   187   98.175   1033.175   \n",
      "1                  7              5    2   464   97.440   1025.440   \n",
      "2                  7              5    2   197   41.370    435.370   \n",
      "3                  7              5    4  1141  479.220   5043.220   \n",
      "4                  7              5    4  1020  428.400   4508.400   \n",
      "5                  7              5    1   646   67.830    713.830   \n",
      "6                  7              5    4   410  172.200   1812.200   \n",
      "7                  7              5    1  1441  151.305   1592.305   \n",
      "8                  7              5    5   746  391.650   4121.650   \n",
      "10                 7              5   -4 -1161  487.620  -5131.620   \n",
      "\n",
      "        Store_type prod_cat prod_subcat  \n",
      "0         TeleShop    Books     Fiction  \n",
      "1           e-Shop    Books     Fiction  \n",
      "2   Flagship store    Books     Fiction  \n",
      "3           e-Shop    Books     Fiction  \n",
      "4           e-Shop    Books     Fiction  \n",
      "5         TeleShop    Books     Fiction  \n",
      "6           e-Shop    Books     Fiction  \n",
      "7           e-Shop    Books     Fiction  \n",
      "8              MBR    Books     Fiction  \n",
      "10        TeleShop    Books     Fiction  \n",
      "       customer_Id         DOB Gender  city_code  transaction_id   tran_date  \\\n",
      "23043       268914  1992-11-15      F        3.0      1407823655  2011-06-10   \n",
      "23044       269519  1992-11-17      M        9.0     29719500605  2013-12-24   \n",
      "23045       273524  1992-11-25      F        1.0     25762805863  2012-11-19   \n",
      "23046       272141  1992-12-02      F       10.0     71337087467  2012-07-22   \n",
      "23047       272141  1992-12-02      F       10.0     71337087467  2012-07-16   \n",
      "23048       267812  1992-12-04      F        1.0     63540378797  2012-10-10   \n",
      "23049       274618  1992-12-09      F        7.0     71793203305  2013-08-17   \n",
      "23050       268097  1992-12-15      F        7.0     91217108818  2012-02-01   \n",
      "23051       268097  1992-12-15      F        7.0     90114483354  2011-01-31   \n",
      "23052       268097  1992-12-15      F        7.0     90114483354  2011-01-26   \n",
      "\n",
      "       prod_subcat_code  prod_cat_code  Qty  Rate      Tax  total_amt  \\\n",
      "23043                10              5    1  1252  131.460   1383.460   \n",
      "23044                10              5    4  1036  435.120   4579.120   \n",
      "23045                10              5    1  1401  147.105   1548.105   \n",
      "23046                10              5   -3 -1422  447.930  -4713.930   \n",
      "23047                10              5    3  1422  447.930   4713.930   \n",
      "23048                10              5    3   224   70.560    742.560   \n",
      "23049                10              5    4   691  290.220   3054.220   \n",
      "23050                10              5    2   411   86.310    908.310   \n",
      "23051                10              5   -4 -1408  591.360  -6223.360   \n",
      "23052                10              5    4  1408  591.360   6223.360   \n",
      "\n",
      "           Store_type prod_cat  prod_subcat  \n",
      "23043             MBR    Books  Non-Fiction  \n",
      "23044        TeleShop    Books  Non-Fiction  \n",
      "23045  Flagship store    Books  Non-Fiction  \n",
      "23046          e-Shop    Books  Non-Fiction  \n",
      "23047          e-Shop    Books  Non-Fiction  \n",
      "23048        TeleShop    Books  Non-Fiction  \n",
      "23049  Flagship store    Books  Non-Fiction  \n",
      "23050          e-Shop    Books  Non-Fiction  \n",
      "23051          e-Shop    Books  Non-Fiction  \n",
      "23052          e-Shop    Books  Non-Fiction  \n"
     ]
    }
   ],
   "source": [
    "#Answer 2b\n",
    "print(customer.head(10))\n",
    "print(customer.tail(10))"
   ]
  },
  {
   "cell_type": "code",
   "execution_count": 17,
   "metadata": {},
   "outputs": [
    {
     "data": {
      "text/html": [
       "<div>\n",
       "<style scoped>\n",
       "    .dataframe tbody tr th:only-of-type {\n",
       "        vertical-align: middle;\n",
       "    }\n",
       "\n",
       "    .dataframe tbody tr th {\n",
       "        vertical-align: top;\n",
       "    }\n",
       "\n",
       "    .dataframe thead th {\n",
       "        text-align: right;\n",
       "    }\n",
       "</style>\n",
       "<table border=\"1\" class=\"dataframe\">\n",
       "  <thead>\n",
       "    <tr style=\"text-align: right;\">\n",
       "      <th></th>\n",
       "      <th>customer_Id</th>\n",
       "      <th>transaction_id</th>\n",
       "      <th>Qty</th>\n",
       "      <th>Rate</th>\n",
       "      <th>Tax</th>\n",
       "      <th>total_amt</th>\n",
       "    </tr>\n",
       "  </thead>\n",
       "  <tbody>\n",
       "    <tr>\n",
       "      <th>min</th>\n",
       "      <td>266783.00</td>\n",
       "      <td>3.268991e+06</td>\n",
       "      <td>-5.0</td>\n",
       "      <td>-1499.0</td>\n",
       "      <td>7.3500</td>\n",
       "      <td>-8270.925</td>\n",
       "    </tr>\n",
       "    <tr>\n",
       "      <th>25%</th>\n",
       "      <td>268936.00</td>\n",
       "      <td>2.492230e+10</td>\n",
       "      <td>1.0</td>\n",
       "      <td>312.0</td>\n",
       "      <td>98.2800</td>\n",
       "      <td>762.450</td>\n",
       "    </tr>\n",
       "    <tr>\n",
       "      <th>50%</th>\n",
       "      <td>270981.00</td>\n",
       "      <td>5.008942e+10</td>\n",
       "      <td>3.0</td>\n",
       "      <td>710.0</td>\n",
       "      <td>199.0800</td>\n",
       "      <td>1754.740</td>\n",
       "    </tr>\n",
       "    <tr>\n",
       "      <th>75%</th>\n",
       "      <td>273115.25</td>\n",
       "      <td>7.532632e+10</td>\n",
       "      <td>4.0</td>\n",
       "      <td>1109.0</td>\n",
       "      <td>365.7675</td>\n",
       "      <td>3569.150</td>\n",
       "    </tr>\n",
       "    <tr>\n",
       "      <th>max</th>\n",
       "      <td>275265.00</td>\n",
       "      <td>9.998755e+10</td>\n",
       "      <td>5.0</td>\n",
       "      <td>1500.0</td>\n",
       "      <td>787.5000</td>\n",
       "      <td>8287.500</td>\n",
       "    </tr>\n",
       "  </tbody>\n",
       "</table>\n",
       "</div>"
      ],
      "text/plain": [
       "     customer_Id  transaction_id  Qty    Rate       Tax  total_amt\n",
       "min    266783.00    3.268991e+06 -5.0 -1499.0    7.3500  -8270.925\n",
       "25%    268936.00    2.492230e+10  1.0   312.0   98.2800    762.450\n",
       "50%    270981.00    5.008942e+10  3.0   710.0  199.0800   1754.740\n",
       "75%    273115.25    7.532632e+10  4.0  1109.0  365.7675   3569.150\n",
       "max    275265.00    9.998755e+10  5.0  1500.0  787.5000   8287.500"
      ]
     },
     "execution_count": 17,
     "metadata": {},
     "output_type": "execute_result"
    }
   ],
   "source": [
    "#Answer 2d:\n",
    "conti_variable = customer[['customer_Id','DOB','transaction_id','Qty','Rate','Tax','total_amt']]\n",
    "cat_variable = customer[['Gender','city_code','prod_cat','prod_cat_code','prod_subcat','prod_subcat_code','Store_type']]\n",
    "conti_variable.describe().loc[['min','25%','50%','75%','max']]"
   ]
  },
  {
   "cell_type": "code",
   "execution_count": 18,
   "metadata": {},
   "outputs": [
    {
     "name": "stdout",
     "output_type": "stream",
     "text": [
      "M    11805\n",
      "F    11231\n",
      "Name: Gender, dtype: int64\n",
      "4.0     2422\n",
      "3.0     2411\n",
      "5.0     2360\n",
      "7.0     2356\n",
      "10.0    2333\n",
      "8.0     2330\n",
      "2.0     2265\n",
      "1.0     2258\n",
      "9.0     2178\n",
      "6.0     2123\n",
      "Name: city_code, dtype: int64\n",
      "Books               6064\n",
      "Electronics         4894\n",
      "Home and kitchen    4126\n",
      "Footwear            2998\n",
      "Clothing            2957\n",
      "Bags                1997\n",
      "Name: prod_cat, dtype: int64\n",
      "5    6064\n",
      "3    4894\n",
      "6    4126\n",
      "2    2998\n",
      "1    2957\n",
      "4    1997\n",
      "Name: prod_cat_code, dtype: int64\n",
      "Women                  3046\n",
      "Mens                   2911\n",
      "Kids                   1995\n",
      "Tools                  1062\n",
      "Fiction                1042\n",
      "Kitchen                1037\n",
      "Children               1034\n",
      "Comics                 1031\n",
      "Mobiles                1031\n",
      "Bath                   1021\n",
      "Furnishing             1006\n",
      "Non-Fiction            1002\n",
      "DIY                     988\n",
      "Cameras                 984\n",
      "Personal Appliances     972\n",
      "Academic                967\n",
      "Computers               956\n",
      "Audio and video         951\n",
      "Name: prod_subcat, dtype: int64\n",
      "4     4001\n",
      "3     3066\n",
      "10    2990\n",
      "1     2947\n",
      "11    2055\n",
      "12    2029\n",
      "7     1042\n",
      "2     1006\n",
      "6      988\n",
      "9      984\n",
      "8      972\n",
      "5      956\n",
      "Name: prod_subcat_code, dtype: int64\n",
      "e-Shop            9306\n",
      "MBR               4659\n",
      "Flagship store    4575\n",
      "TeleShop          4496\n",
      "Name: Store_type, dtype: int64\n"
     ]
    }
   ],
   "source": [
    "#Answer 2d:\n",
    "for i in cat_variable.columns:\n",
    "      print(cat_variable[i].value_counts())"
   ]
  },
  {
   "cell_type": "code",
   "execution_count": 19,
   "metadata": {},
   "outputs": [
    {
     "data": {
      "text/plain": [
       "array([[<AxesSubplot: title={'center': 'customer_Id'}>,\n",
       "        <AxesSubplot: title={'center': 'transaction_id'}>,\n",
       "        <AxesSubplot: title={'center': 'Qty'}>],\n",
       "       [<AxesSubplot: title={'center': 'Rate'}>,\n",
       "        <AxesSubplot: title={'center': 'Tax'}>,\n",
       "        <AxesSubplot: title={'center': 'total_amt'}>],\n",
       "       [<AxesSubplot: >, <AxesSubplot: >, <AxesSubplot: >],\n",
       "       [<AxesSubplot: >, <AxesSubplot: >, <AxesSubplot: >],\n",
       "       [<AxesSubplot: >, <AxesSubplot: >, <AxesSubplot: >],\n",
       "       [<AxesSubplot: >, <AxesSubplot: >, <AxesSubplot: >],\n",
       "       [<AxesSubplot: >, <AxesSubplot: >, <AxesSubplot: >],\n",
       "       [<AxesSubplot: >, <AxesSubplot: >, <AxesSubplot: >],\n",
       "       [<AxesSubplot: >, <AxesSubplot: >, <AxesSubplot: >]], dtype=object)"
      ]
     },
     "execution_count": 19,
     "metadata": {},
     "output_type": "execute_result"
    },
    {
     "data": {
      "image/png": "[encoded data removed]",
      "text/plain": [
       "<Figure size 1500x3000 with 27 Axes>"
      ]
     },
     "metadata": {},
     "output_type": "display_data"
    }
   ],
   "source": [
    "#Answer 3:\n",
    "import seaborn as sns\n",
    "import matplotlib.pyplot as plt\n",
    "conti_variable.hist(figsize=(15,30),layout=(9,3))\n"
   ]
  },
  {
   "cell_type": "code",
   "execution_count": 20,
   "metadata": {},
   "outputs": [
    {
     "data": {
      "text/plain": [
       "1130"
      ]
     },
     "execution_count": 20,
     "metadata": {},
     "output_type": "execute_result"
    }
   ],
   "source": [
    "#Answer 4a:\n",
    "(pd.to_datetime(customer['tran_date'].max())-pd.to_datetime(customer['tran_date'].min())).days"
   ]
  },
  {
   "cell_type": "code",
   "execution_count": 21,
   "metadata": {},
   "outputs": [
    {
     "data": {
      "text/plain": [
       "2176"
      ]
     },
     "execution_count": 21,
     "metadata": {},
     "output_type": "execute_result"
    }
   ],
   "source": [
    "#Answer 4b:\n",
    "len(customer[customer['total_amt']<0])"
   ]
  },
  {
   "cell_type": "code",
   "execution_count": 22,
   "metadata": {},
   "outputs": [
    {
     "data": {
      "text/plain": [
       "Gender\n",
       "F    Books\n",
       "M    Books\n",
       "Name: prod_cat, dtype: object"
      ]
     },
     "execution_count": 22,
     "metadata": {},
     "output_type": "execute_result"
    }
   ],
   "source": [
    "#Answer 5:\n",
    "customer.groupby('Gender')['prod_cat'].agg(lambda x: x.mode()[0])"
   ]
  },
  {
   "cell_type": "code",
   "execution_count": 23,
   "metadata": {},
   "outputs": [
    {
     "data": {
      "text/html": [
       "<div>\n",
       "<style scoped>\n",
       "    .dataframe tbody tr th:only-of-type {\n",
       "        vertical-align: middle;\n",
       "    }\n",
       "\n",
       "    .dataframe tbody tr th {\n",
       "        vertical-align: top;\n",
       "    }\n",
       "\n",
       "    .dataframe thead th {\n",
       "        text-align: right;\n",
       "    }\n",
       "</style>\n",
       "<table border=\"1\" class=\"dataframe\">\n",
       "  <thead>\n",
       "    <tr style=\"text-align: right;\">\n",
       "      <th></th>\n",
       "      <th>count</th>\n",
       "      <th>percentage</th>\n",
       "    </tr>\n",
       "    <tr>\n",
       "      <th>city_code</th>\n",
       "      <th></th>\n",
       "      <th></th>\n",
       "    </tr>\n",
       "  </thead>\n",
       "  <tbody>\n",
       "    <tr>\n",
       "      <th>4.0</th>\n",
       "      <td>2422</td>\n",
       "      <td>10.5</td>\n",
       "    </tr>\n",
       "  </tbody>\n",
       "</table>\n",
       "</div>"
      ],
      "text/plain": [
       "           count  percentage\n",
       "city_code                   \n",
       "4.0         2422        10.5"
      ]
     },
     "execution_count": 23,
     "metadata": {},
     "output_type": "execute_result"
    }
   ],
   "source": [
    "#Answer 6:\n",
    "city_no = customer.pivot_table(index='city_code',values='customer_Id',aggfunc=['count', lambda x : round(len(x)*100/len(customer),1)])\n",
    "city_no.columns = ['count', 'percentage']\n",
    "city_no.sort_values('count',ascending=False).head(1)"
   ]
  },
  {
   "attachments": {},
   "cell_type": "markdown",
   "metadata": {},
   "source": [
    "From above we can see that city_cde = 4 has maximum no of users"
   ]
  },
  {
   "cell_type": "code",
   "execution_count": 24,
   "metadata": {},
   "outputs": [
    {
     "name": "stdout",
     "output_type": "stream",
     "text": [
      "store type that sells max by qty :  e-Shop\n",
      "store type that sells max by value :  e-Shop\n"
     ]
    }
   ],
   "source": [
    "#Answer 7:\n",
    "print(\"store type that sells max by qty : \",customer.groupby('Store_type')['Qty'].count().sort_values(ascending=False).index[0])\n",
    "print(\"store type that sells max by value : \",customer.groupby('Store_type')['total_amt'].sum().sort_values(ascending=False).index[0])\n",
    "\n"
   ]
  },
  {
   "cell_type": "code",
   "execution_count": 25,
   "metadata": {},
   "outputs": [
    {
     "data": {
      "text/plain": [
       "3408936.0500000003"
      ]
     },
     "execution_count": 25,
     "metadata": {},
     "output_type": "execute_result"
    }
   ],
   "source": [
    "#Answer 8:\n",
    "customer['total_amt'][(customer['Store_type']=='Flagship store')&((customer['prod_cat']=='Electronics')|(customer['prod_cat']=='Clothing'))].sum()"
   ]
  },
  {
   "cell_type": "code",
   "execution_count": 26,
   "metadata": {},
   "outputs": [
    {
     "data": {
      "text/plain": [
       "5697629.73"
      ]
     },
     "execution_count": 26,
     "metadata": {},
     "output_type": "execute_result"
    }
   ],
   "source": [
    "#Answer 9:\n",
    "customer['total_amt'][(customer['Gender']=='M')&(customer['prod_cat']=='Electronics')].sum()"
   ]
  },
  {
   "cell_type": "code",
   "execution_count": 27,
   "metadata": {},
   "outputs": [
    {
     "data": {
      "text/plain": [
       "6"
      ]
     },
     "execution_count": 27,
     "metadata": {},
     "output_type": "execute_result"
    }
   ],
   "source": [
    "#Answer 10:\n",
    "ncustomer=customer[['customer_Id','transaction_id']][customer['total_amt']>0]\n",
    "(ncustomer.groupby('customer_Id')['transaction_id'].nunique()>10).sum()"
   ]
  },
  {
   "cell_type": "code",
   "execution_count": 30,
   "metadata": {},
   "outputs": [],
   "source": [
    "#Answer 11:\n",
    "#creating age columnf\n",
    "from datetime import datetime\n",
    "tday=datetime.now().year\n",
    "customer['Age']=customer['DOB'].apply(lambda x: tday-x.year)\n"
   ]
  },
  {
   "cell_type": "code",
   "execution_count": 31,
   "metadata": {},
   "outputs": [],
   "source": [
    "#creating filtered dataframe\n",
    "filter_cust=customer[(customer['Age']<=35)&(customer['Age']>=25)].loc[:,('total_amt','tran_date','prod_cat')]\n",
    "filter_cust['tran_date']=pd.to_datetime(filter_cust['tran_date'])"
   ]
  },
  {
   "cell_type": "code",
   "execution_count": 32,
   "metadata": {},
   "outputs": [
    {
     "data": {
      "text/plain": [
       "4939932.335"
      ]
     },
     "execution_count": 32,
     "metadata": {},
     "output_type": "execute_result"
    }
   ],
   "source": [
    "#Answer 11 a:\n",
    "filter_cust['total_amt'][(filter_cust['prod_cat']==\"Books\")|(filter_cust['prod_cat']==\"Electronics\")].sum()"
   ]
  },
  {
   "cell_type": "code",
   "execution_count": 33,
   "metadata": {},
   "outputs": [
    {
     "data": {
      "text/plain": [
       "546350.675"
      ]
     },
     "execution_count": 33,
     "metadata": {},
     "output_type": "execute_result"
    }
   ],
   "source": [
    "#Answer 11 b:\n",
    "filter_cust['total_amt'][filter_cust['tran_date'].between('2014-01-01', '2014-03-01')].sum()"
   ]
  }
 ],
 "metadata": {
  "kernelspec": {
   "display_name": "Python 3",
   "language": "python",
   "name": "python3"
  },
  "language_info": {
   "codemirror_mode": {
    "name": "ipython",
    "version": 3
   },
   "file_extension": ".py",
   "mimetype": "text/x-python",
   "name": "python",
   "nbconvert_exporter": "python",
   "pygments_lexer": "ipython3",
   "version": "3.11.1"
  },
  "orig_nbformat": 4
 },
 "nbformat": 4,
 "nbformat_minor": 2
}
