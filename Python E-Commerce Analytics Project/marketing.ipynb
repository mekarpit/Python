{
 "cells": [
  {
   "cell_type": "code",
   "execution_count": 11,
   "metadata": {},
   "outputs": [],
   "source": [
    "import pandas as pd\n",
    "import numpy as np\n",
    "import matplotlib.pyplot as plt\n",
    "import seaborn as sns\n",
    "import datetime as dt"
   ]
  },
  {
   "cell_type": "code",
   "execution_count": null,
   "metadata": {},
   "outputs": [],
   "source": [
    "# orders = pd.read_csv('ORDERS.csv')\n",
    "# order_items = pd.read_csv('ORDER_ITEMS.csv')\n",
    "# customers= pd.read_csv('CUSTOMERS.csv')\n",
    "# order_review = pd.read_csv('ORDER_REVIEW_RATINGS.csv')\n",
    "# order_payments = pd.read_csv('ORDER_PAYMENTS.csv')\n",
    "# products =pd.read_csv('PRODUCTS.csv')\n",
    "# sellers = pd.read_csv('SELLERS.csv')\n",
    "# location = pd.read_csv('GEO_LOCATION.csv')"
   ]
  },
  {
   "attachments": {},
   "cell_type": "markdown",
   "metadata": {},
   "source": [
    "All the above files were merged and saved as \"data.csv\""
   ]
  },
  {
   "cell_type": "code",
   "execution_count": 12,
   "metadata": {},
   "outputs": [],
   "source": [
    "data =pd.read_csv(\"data.csv\")"
   ]
  },
  {
   "cell_type": "code",
   "execution_count": null,
   "metadata": {},
   "outputs": [],
   "source": [
    "data.columns"
   ]
  },
  {
   "cell_type": "code",
   "execution_count": null,
   "metadata": {},
   "outputs": [],
   "source": [
    "tl_revenue = data['payment_value'].sum()\n",
    "print(\"total revenue is \",tl_revenue)\n",
    "tl_qty = len(data)\n",
    "print('total order qty is :',tl_qty)\n",
    "tl_products =data['product_id'].nunique()\n",
    "print(\"total no of diff products are: \",tl_products),\n",
    "tl_cat = data['product_category_name'].nunique()\n",
    "print(\"total unique categories are: \",tl_cat)\n",
    "tl_sell = data['seller_id'].nunique()\n",
    "print(\"total unique sellers are: \",tl_sell)\n",
    "tl_pmethod = data['payment_type'].nunique()\n",
    "print(\"total number of payment methods are:\", tl_pmethod)\n",
    "tl_locations = data['customer_zip_code_prefix'].nunique()\n",
    "print(\"total number of locations are:\", tl_locations)"
   ]
  },
  {
   "cell_type": "code",
   "execution_count": 52,
   "metadata": {},
   "outputs": [],
   "source": [
    "data['year']=pd.to_datetime(data['order_purchase_timestamp']).dt.year\n",
    "data['month']=pd.to_datetime(data['order_purchase_timestamp']).dt.month"
   ]
  },
  {
   "cell_type": "code",
   "execution_count": 12,
   "metadata": {},
   "outputs": [
    {
     "data": {
      "text/plain": [
       "year  month\n",
       "2016  9           3\n",
       "      10        386\n",
       "      12          1\n",
       "2017  1        1023\n",
       "      2        2072\n",
       "      3        3193\n",
       "      4        2858\n",
       "      5        4433\n",
       "      6        3804\n",
       "      7        4877\n",
       "      8        5205\n",
       "      9        5125\n",
       "      10       5603\n",
       "      11       9069\n",
       "      12       6576\n",
       "2018  1        8588\n",
       "      2        7998\n",
       "      3        8569\n",
       "      4        8251\n",
       "      5        8208\n",
       "      6        7376\n",
       "      7        7337\n",
       "      8        7442\n",
       "      9           1\n",
       "Name: customer_id, dtype: int64"
      ]
     },
     "execution_count": 12,
     "metadata": {},
     "output_type": "execute_result"
    }
   ],
   "source": [
    "data.groupby(['year','month'])['customer_id'].count()"
   ]
  },
  {
   "cell_type": "code",
   "execution_count": 4,
   "metadata": {},
   "outputs": [],
   "source": [
    "monthly = pd.pivot_table(data,index=['year','month'],values=['customer_id','price'],aggfunc={'customer_id':'count','price':'sum'})"
   ]
  },
  {
   "cell_type": "code",
   "execution_count": 5,
   "metadata": {},
   "outputs": [],
   "source": [
    "monthly['customer_change']=monthly['customer_id'].diff().shift(0)"
   ]
  },
  {
   "cell_type": "code",
   "execution_count": 6,
   "metadata": {},
   "outputs": [],
   "source": [
    "monthly['retention_rate']=round(((monthly['customer_change'])*100/(monthly['customer_id'].shift(1))),2)"
   ]
  },
  {
   "cell_type": "code",
   "execution_count": 7,
   "metadata": {},
   "outputs": [],
   "source": [
    "monthly['revenue_change']=monthly['price'].diff().shift(0)"
   ]
  },
  {
   "cell_type": "code",
   "execution_count": 10,
   "metadata": {},
   "outputs": [],
   "source": [
    "monthly.rename(columns={'customer_id':'No of current users','price':'total revenue'},inplace=True)"
   ]
  },
  {
   "cell_type": "code",
   "execution_count": 11,
   "metadata": {},
   "outputs": [
    {
     "data": {
      "text/html": [
       "<div>\n",
       "<style scoped>\n",
       "    .dataframe tbody tr th:only-of-type {\n",
       "        vertical-align: middle;\n",
       "    }\n",
       "\n",
       "    .dataframe tbody tr th {\n",
       "        vertical-align: top;\n",
       "    }\n",
       "\n",
       "    .dataframe thead tr th {\n",
       "        text-align: left;\n",
       "    }\n",
       "</style>\n",
       "<table border=\"1\" class=\"dataframe\">\n",
       "  <thead>\n",
       "    <tr>\n",
       "      <th>year</th>\n",
       "      <th colspan=\"3\" halign=\"left\">2016</th>\n",
       "      <th colspan=\"9\" halign=\"left\">2017</th>\n",
       "      <th colspan=\"9\" halign=\"left\">2018</th>\n",
       "    </tr>\n",
       "    <tr>\n",
       "      <th>month</th>\n",
       "      <th>9</th>\n",
       "      <th>10</th>\n",
       "      <th>12</th>\n",
       "      <th>1</th>\n",
       "      <th>2</th>\n",
       "      <th>3</th>\n",
       "      <th>4</th>\n",
       "      <th>5</th>\n",
       "      <th>6</th>\n",
       "      <th>7</th>\n",
       "      <th>...</th>\n",
       "      <th>12</th>\n",
       "      <th>1</th>\n",
       "      <th>2</th>\n",
       "      <th>3</th>\n",
       "      <th>4</th>\n",
       "      <th>5</th>\n",
       "      <th>6</th>\n",
       "      <th>7</th>\n",
       "      <th>8</th>\n",
       "      <th>9</th>\n",
       "    </tr>\n",
       "  </thead>\n",
       "  <tbody>\n",
       "    <tr>\n",
       "      <th>No of current users</th>\n",
       "      <td>3.00</td>\n",
       "      <td>386.00</td>\n",
       "      <td>1.00</td>\n",
       "      <td>1023.00</td>\n",
       "      <td>2072.00</td>\n",
       "      <td>3193.00</td>\n",
       "      <td>2858.00</td>\n",
       "      <td>4433.00</td>\n",
       "      <td>3804.00</td>\n",
       "      <td>4877.00</td>\n",
       "      <td>...</td>\n",
       "      <td>6576.00</td>\n",
       "      <td>8588.00</td>\n",
       "      <td>7998.00</td>\n",
       "      <td>8569.00</td>\n",
       "      <td>8251.00</td>\n",
       "      <td>8208.00</td>\n",
       "      <td>7376.00</td>\n",
       "      <td>7337.00</td>\n",
       "      <td>7442.00</td>\n",
       "      <td>1.00</td>\n",
       "    </tr>\n",
       "    <tr>\n",
       "      <th>total revenue</th>\n",
       "      <td>132.39</td>\n",
       "      <td>51468.91</td>\n",
       "      <td>10.90</td>\n",
       "      <td>129895.32</td>\n",
       "      <td>261963.96</td>\n",
       "      <td>397310.65</td>\n",
       "      <td>392112.14</td>\n",
       "      <td>547657.85</td>\n",
       "      <td>454453.83</td>\n",
       "      <td>534568.42</td>\n",
       "      <td>...</td>\n",
       "      <td>771809.13</td>\n",
       "      <td>992358.21</td>\n",
       "      <td>886596.65</td>\n",
       "      <td>1027006.94</td>\n",
       "      <td>1029429.56</td>\n",
       "      <td>1030876.97</td>\n",
       "      <td>907843.11</td>\n",
       "      <td>925385.36</td>\n",
       "      <td>882345.48</td>\n",
       "      <td>145.00</td>\n",
       "    </tr>\n",
       "    <tr>\n",
       "      <th>customer_change</th>\n",
       "      <td>NaN</td>\n",
       "      <td>383.00</td>\n",
       "      <td>-385.00</td>\n",
       "      <td>1022.00</td>\n",
       "      <td>1049.00</td>\n",
       "      <td>1121.00</td>\n",
       "      <td>-335.00</td>\n",
       "      <td>1575.00</td>\n",
       "      <td>-629.00</td>\n",
       "      <td>1073.00</td>\n",
       "      <td>...</td>\n",
       "      <td>-2493.00</td>\n",
       "      <td>2012.00</td>\n",
       "      <td>-590.00</td>\n",
       "      <td>571.00</td>\n",
       "      <td>-318.00</td>\n",
       "      <td>-43.00</td>\n",
       "      <td>-832.00</td>\n",
       "      <td>-39.00</td>\n",
       "      <td>105.00</td>\n",
       "      <td>-7441.00</td>\n",
       "    </tr>\n",
       "    <tr>\n",
       "      <th>retention_rate</th>\n",
       "      <td>NaN</td>\n",
       "      <td>12766.67</td>\n",
       "      <td>-99.74</td>\n",
       "      <td>102200.00</td>\n",
       "      <td>102.54</td>\n",
       "      <td>54.10</td>\n",
       "      <td>-10.49</td>\n",
       "      <td>55.11</td>\n",
       "      <td>-14.19</td>\n",
       "      <td>28.21</td>\n",
       "      <td>...</td>\n",
       "      <td>-27.49</td>\n",
       "      <td>30.60</td>\n",
       "      <td>-6.87</td>\n",
       "      <td>7.14</td>\n",
       "      <td>-3.71</td>\n",
       "      <td>-0.52</td>\n",
       "      <td>-10.14</td>\n",
       "      <td>-0.53</td>\n",
       "      <td>1.43</td>\n",
       "      <td>-99.99</td>\n",
       "    </tr>\n",
       "    <tr>\n",
       "      <th>revenue_change</th>\n",
       "      <td>NaN</td>\n",
       "      <td>51336.52</td>\n",
       "      <td>-51458.01</td>\n",
       "      <td>129884.42</td>\n",
       "      <td>132068.64</td>\n",
       "      <td>135346.69</td>\n",
       "      <td>-5198.51</td>\n",
       "      <td>155545.71</td>\n",
       "      <td>-93204.02</td>\n",
       "      <td>80114.59</td>\n",
       "      <td>...</td>\n",
       "      <td>-278894.70</td>\n",
       "      <td>220549.08</td>\n",
       "      <td>-105761.56</td>\n",
       "      <td>140410.29</td>\n",
       "      <td>2422.62</td>\n",
       "      <td>1447.41</td>\n",
       "      <td>-123033.86</td>\n",
       "      <td>17542.25</td>\n",
       "      <td>-43039.88</td>\n",
       "      <td>-882200.48</td>\n",
       "    </tr>\n",
       "  </tbody>\n",
       "</table>\n",
       "<p>5 rows × 24 columns</p>\n",
       "</div>"
      ],
      "text/plain": [
       "year                   2016                           2017              \n",
       "month                    9         10        12         1          2    \n",
       "No of current users    3.00    386.00      1.00    1023.00    2072.00  \\\n",
       "total revenue        132.39  51468.91     10.90  129895.32  261963.96   \n",
       "customer_change         NaN    383.00   -385.00    1022.00    1049.00   \n",
       "retention_rate          NaN  12766.67    -99.74  102200.00     102.54   \n",
       "revenue_change          NaN  51336.52 -51458.01  129884.42  132068.64   \n",
       "\n",
       "year                                                                         \n",
       "month                       3          4          5          6          7    \n",
       "No of current users    3193.00    2858.00    4433.00    3804.00    4877.00  \\\n",
       "total revenue        397310.65  392112.14  547657.85  454453.83  534568.42   \n",
       "customer_change        1121.00    -335.00    1575.00    -629.00    1073.00   \n",
       "retention_rate           54.10     -10.49      55.11     -14.19      28.21   \n",
       "revenue_change       135346.69   -5198.51  155545.71  -93204.02   80114.59   \n",
       "\n",
       "year                 ...                  2018                          \n",
       "month                ...         12         1          2           3    \n",
       "No of current users  ...    6576.00    8588.00    7998.00     8569.00  \\\n",
       "total revenue        ...  771809.13  992358.21  886596.65  1027006.94   \n",
       "customer_change      ...   -2493.00    2012.00    -590.00      571.00   \n",
       "retention_rate       ...     -27.49      30.60      -6.87        7.14   \n",
       "revenue_change       ... -278894.70  220549.08 -105761.56   140410.29   \n",
       "\n",
       "year                                                                           \n",
       "month                        4           5          6          7          8    \n",
       "No of current users     8251.00     8208.00    7376.00    7337.00    7442.00  \\\n",
       "total revenue        1029429.56  1030876.97  907843.11  925385.36  882345.48   \n",
       "customer_change         -318.00      -43.00    -832.00     -39.00     105.00   \n",
       "retention_rate            -3.71       -0.52     -10.14      -0.53       1.43   \n",
       "revenue_change          2422.62     1447.41 -123033.86   17542.25  -43039.88   \n",
       "\n",
       "year                            \n",
       "month                       9   \n",
       "No of current users       1.00  \n",
       "total revenue           145.00  \n",
       "customer_change       -7441.00  \n",
       "retention_rate          -99.99  \n",
       "revenue_change      -882200.48  \n",
       "\n",
       "[5 rows x 24 columns]"
      ]
     },
     "execution_count": 11,
     "metadata": {},
     "output_type": "execute_result"
    }
   ],
   "source": [
    "monthly.T"
   ]
  },
  {
   "cell_type": "code",
   "execution_count": 24,
   "metadata": {},
   "outputs": [
    {
     "name": "stdout",
     "output_type": "stream",
     "text": [
      "total quantity by category:  product_category_name\n",
      "Agro_Industry_And_Commerce     252\n",
      "Air_Conditioning               302\n",
      "Art                            219\n",
      "Arts_And_Craftmanship           24\n",
      "Audio                          380\n",
      "                              ... \n",
      "Stationery                    2618\n",
      "Tablets_Printing_Image          87\n",
      "Telephony                     4710\n",
      "Toys                          4269\n",
      "Watches_Gifts                 6188\n",
      "Name: order_id, Length: 71, dtype: int64\n",
      "total sales by category:  product_category_name\n",
      "Agro_Industry_And_Commerce     118730.61\n",
      "Air_Conditioning                91170.66\n",
      "Art                             30992.93\n",
      "Arts_And_Craftmanship            2326.17\n",
      "Audio                           60358.49\n",
      "                                 ...    \n",
      "Stationery                     317075.28\n",
      "Tablets_Printing_Image          10042.93\n",
      "Telephony                      485991.91\n",
      "Toys                           618881.42\n",
      "Watches_Gifts                 1423841.71\n",
      "Name: payment_value, Length: 71, dtype: float64\n"
     ]
    }
   ],
   "source": [
    "#quantity by category:\n",
    "print(\"total quantity by category: \",data.groupby('product_category_name')['order_id'].count())\n",
    "\n",
    "#sales by category:\n",
    "print(\"total sales by category: \",data.groupby('product_category_name')['payment_value'].sum())"
   ]
  },
  {
   "cell_type": "code",
   "execution_count": 25,
   "metadata": {},
   "outputs": [
    {
     "name": "stdout",
     "output_type": "stream",
     "text": [
      "total quantity by customer city:  customer_city\n",
      "Aadityana          32\n",
      "Aambaliyasan        2\n",
      "Aantaliya         108\n",
      "Aarambhada         52\n",
      "Abiramam            1\n",
      "                 ... \n",
      "Zamin Uthukuli      2\n",
      "Ziauddin Pur      161\n",
      "Zira                5\n",
      "Zirakpur            4\n",
      "Ziro               56\n",
      "Name: order_id, Length: 4066, dtype: int64\n",
      "total sales by customer city:  customer_city\n",
      "Aadityana          2134.53\n",
      "Aambaliyasan        242.94\n",
      "Aantaliya         16903.07\n",
      "Aarambhada         7186.11\n",
      "Abiramam             89.19\n",
      "                    ...   \n",
      "Zamin Uthukuli      221.71\n",
      "Ziauddin Pur      25585.55\n",
      "Zira                568.43\n",
      "Zirakpur            600.64\n",
      "Ziro               7094.85\n",
      "Name: payment_value, Length: 4066, dtype: float64\n"
     ]
    }
   ],
   "source": [
    "#quantity by user-location:\n",
    "print(\"total quantity by customer city: \",data.groupby('customer_city')['order_id'].count())\n",
    "\n",
    "#sales by user-location:\n",
    "print(\"total sales by customer city: \",data.groupby('customer_city')['payment_value'].sum())"
   ]
  },
  {
   "cell_type": "code",
   "execution_count": 26,
   "metadata": {},
   "outputs": [
    {
     "name": "stdout",
     "output_type": "stream",
     "text": [
      "total quantity by paymentmethod:  payment_type\n",
      "UPI            22957\n",
      "credit_card    87026\n",
      "debit_card      1698\n",
      "voucher         6317\n",
      "Name: order_id, dtype: int64\n",
      "total sales by paymentmethod:  payment_type\n",
      "UPI             4068362.00\n",
      "credit_card    15629400.45\n",
      "debit_card       254447.23\n",
      "voucher          408143.95\n",
      "Name: payment_value, dtype: float64\n"
     ]
    }
   ],
   "source": [
    "#quantity by paymentmethod:\n",
    "print(\"total quantity by paymentmethod: \",data.groupby('payment_type')['order_id'].count())\n",
    "\n",
    "#sales by paymentmethod:\n",
    "print(\"total sales by paymentmethod: \",data.groupby('payment_type')['payment_value'].sum())"
   ]
  },
  {
   "cell_type": "code",
   "execution_count": 27,
   "metadata": {},
   "outputs": [
    {
     "name": "stdout",
     "output_type": "stream",
     "text": [
      "total quantity by month:  month\n",
      "1      9611\n",
      "2     10070\n",
      "3     11762\n",
      "4     11109\n",
      "5     12641\n",
      "6     11180\n",
      "7     12214\n",
      "8     12647\n",
      "9      5129\n",
      "10     5989\n",
      "11     9069\n",
      "12     6577\n",
      "Name: order_id, dtype: int64\n",
      "total sales by month:  month\n",
      "1     1606210.70\n",
      "2     1665291.39\n",
      "3     2008146.31\n",
      "4     2002742.33\n",
      "5     2231948.06\n",
      "6     1896564.36\n",
      "7     2090964.93\n",
      "8     2099808.90\n",
      "9     1020140.34\n",
      "10    1108357.22\n",
      "11    1585975.50\n",
      "12    1044203.59\n",
      "Name: payment_value, dtype: float64\n"
     ]
    }
   ],
   "source": [
    "#quantity by month:\n",
    "print(\"total quantity by month: \",data.groupby('month')['order_id'].count())\n",
    "\n",
    "#sales by paymentmethod:\n",
    "print(\"total sales by month: \",data.groupby('month')['payment_value'].sum())"
   ]
  },
  {
   "cell_type": "markdown",
   "metadata": {},
   "source": []
  },
  {
   "cell_type": "code",
   "execution_count": 70,
   "metadata": {},
   "outputs": [
    {
     "data": {
      "text/plain": [
       "<Axes: xlabel='month', ylabel='No of current users'>"
      ]
     },
     "execution_count": 70,
     "metadata": {},
     "output_type": "execute_result"
    },
    {
     "data": {
      "image/png": "[encoded data removed]",
      "text/plain": [
       "<Figure size 640x480 with 1 Axes>"
      ]
     },
     "metadata": {},
     "output_type": "display_data"
    }
   ],
   "source": [
    "sns.lineplot(data = monthly,x='month', y='No of current users' , hue = 'year')"
   ]
  },
  {
   "cell_type": "code",
   "execution_count": 71,
   "metadata": {},
   "outputs": [
    {
     "data": {
      "text/plain": [
       "<Axes: xlabel='month', ylabel='total revenue'>"
      ]
     },
     "execution_count": 71,
     "metadata": {},
     "output_type": "execute_result"
    },
    {
     "data": {
      "image/png": "[encoded data removed]",
      "text/plain": [
       "<Figure size 640x480 with 1 Axes>"
      ]
     },
     "metadata": {},
     "output_type": "display_data"
    }
   ],
   "source": [
    "sns.lineplot(data = monthly,x='month', y='total revenue' , hue = 'year')"
   ]
  },
  {
   "cell_type": "code",
   "execution_count": 5,
   "metadata": {},
   "outputs": [],
   "source": [
    "data['weekly']=pd.to_datetime(data['order_purchase_timestamp']).dt.weekday\n",
    "data['hour']=pd.to_datetime(data['order_purchase_timestamp']).dt.hour"
   ]
  },
  {
   "cell_type": "code",
   "execution_count": 11,
   "metadata": {},
   "outputs": [],
   "source": [
    "weekly = data.groupby('weekly')[['customer_id','payment_value']].agg({'customer_id':'count','payment_value':'mean'})"
   ]
  },
  {
   "cell_type": "code",
   "execution_count": 15,
   "metadata": {},
   "outputs": [
    {
     "data": {
      "text/plain": [
       "<Axes: xlabel='weekly', ylabel='payment_value'>"
      ]
     },
     "execution_count": 15,
     "metadata": {},
     "output_type": "execute_result"
    },
    {
     "data": {
      "image/png": "[encoded data removed]",
      "text/plain": [
       "<Figure size 640x480 with 1 Axes>"
      ]
     },
     "metadata": {},
     "output_type": "display_data"
    }
   ],
   "source": [
    "sns.lineplot(data = weekly,x='weekly', y='payment_value')"
   ]
  },
  {
   "cell_type": "code",
   "execution_count": 16,
   "metadata": {},
   "outputs": [],
   "source": [
    "hourly = data.groupby('hour')[['customer_id','payment_value']].agg({'customer_id':'count','payment_value':'mean'})"
   ]
  },
  {
   "cell_type": "code",
   "execution_count": 18,
   "metadata": {},
   "outputs": [
    {
     "data": {
      "text/plain": [
       "<Axes: xlabel='hour', ylabel='payment_value'>"
      ]
     },
     "execution_count": 18,
     "metadata": {},
     "output_type": "execute_result"
    },
    {
     "data": {
      "image/png": "[encoded data removed]",
      "text/plain": [
       "<Figure size 640x480 with 1 Axes>"
      ]
     },
     "metadata": {},
     "output_type": "display_data"
    }
   ],
   "source": [
    "sns.lineplot(data = hourly,x='hour', y='payment_value')"
   ]
  },
  {
   "cell_type": "code",
   "execution_count": 59,
   "metadata": {},
   "outputs": [
    {
     "name": "stdout",
     "output_type": "stream",
     "text": [
      "popular products by month\n"
     ]
    },
    {
     "data": {
      "text/plain": [
       "month  product_id                      \n",
       "1      aca2eb7d00ea1a7b8ebd4e68314663af    124\n",
       "2      e53e557d5a159f5aa2c5e995dfdf244b     72\n",
       "3      aca2eb7d00ea1a7b8ebd4e68314663af     64\n",
       "4      aca2eb7d00ea1a7b8ebd4e68314663af     88\n",
       "5      53b36df67ebb7c41585e8d54d6772e08    114\n",
       "6      99a4788cb24856965c36a24e339b6058     76\n",
       "7      99a4788cb24856965c36a24e339b6058     71\n",
       "8      e7cc48a9daff5436f63d3aad9426f28b     74\n",
       "9      422879e10f46682990de24d770e7f83d     38\n",
       "10     422879e10f46682990de24d770e7f83d     42\n",
       "11     422879e10f46682990de24d770e7f83d     97\n",
       "12     422879e10f46682990de24d770e7f83d     55\n",
       "Name: count, dtype: int64"
      ]
     },
     "execution_count": 59,
     "metadata": {},
     "output_type": "execute_result"
    }
   ],
   "source": [
    "freq=data.groupby('month')['product_id'].value_counts()\n",
    "top1 = freq.groupby('month').head(1)\n",
    "print('popular products by month')\n",
    "top1"
   ]
  },
  {
   "cell_type": "code",
   "execution_count": 60,
   "metadata": {},
   "outputs": [
    {
     "name": "stdout",
     "output_type": "stream",
     "text": [
      "popular products by seller\n"
     ]
    },
    {
     "data": {
      "text/plain": [
       "seller_id                         product_id                      \n",
       "0015a82c2db000af6aaaf3ae2ecb0532  a2ff5a97bf95719e38ea2e3b4105bce8      3\n",
       "001cca7ae9ae17fb1caed9dfb1094831  08574b074924071f4e201e151b152b4e    115\n",
       "001e6ad469a905060d959994f1b41e4f  093cd981b714bcdff182b427d87fc8fc      1\n",
       "002100f778ceb8431b7a1020ff7ab48f  158102fe543dbaeb84d87811bfe06d0d     17\n",
       "003554e2dce176b5555353e4f3555ac8  67f36b3689147d882d2b298fd0715d80      1\n",
       "                                                                     ... \n",
       "ffcfefa19b08742c5d315f2791395ee5  cea898bfbca0b5b0e7b36cecd350709e      1\n",
       "ffdd9f82b9a447f6f8d4b91554cc7dd3  ada800a927673ac73cdfbbd2c832331b      5\n",
       "ffeee66ac5d5a62fe688b9d26f83f534  1347d4320dcd0acd750e37bb3d94a918     10\n",
       "fffd5413c0700ac820c7069d66d98c89  ebb12274522d82caa7dca657873b2ad7      6\n",
       "ffff564a4f9085cd26170f4732393726  8f7a3322e1abfed89ac080b0f7364779      2\n",
       "Name: count, Length: 3095, dtype: int64"
      ]
     },
     "execution_count": 60,
     "metadata": {},
     "output_type": "execute_result"
    }
   ],
   "source": [
    "freq=data.groupby('seller_id')['product_id'].value_counts()\n",
    "top1 = freq.groupby('seller_id').head(1)\n",
    "print('popular products by seller')\n",
    "top1"
   ]
  },
  {
   "cell_type": "code",
   "execution_count": 61,
   "metadata": {},
   "outputs": [
    {
     "name": "stdout",
     "output_type": "stream",
     "text": [
      "popular products by customer_state\n"
     ]
    },
    {
     "data": {
      "text/plain": [
       "customer_state     product_id                      \n",
       "Andhra Pradesh     aca2eb7d00ea1a7b8ebd4e68314663af    344\n",
       "Arunachal Pradesh  03e1c946c0ddfc58724ff262aef08dff     12\n",
       "Chhattisgarh       422879e10f46682990de24d770e7f83d     42\n",
       "Delhi              53759a2ecddad2bb87a079a1f1519f73     25\n",
       "Goa                2a5806f10d0f00e5ad032dd2e3c8806e      1\n",
       "Gujarat            aca2eb7d00ea1a7b8ebd4e68314663af     52\n",
       "Haryana            35afc973633aaeb6b877ff57b2793310     17\n",
       "Himachal Pradesh   4316b712956314302c5d0aef9ed77c13      6\n",
       "Jammu & Kashmir    89b190a046022486c635022524a974a8     15\n",
       "Karnataka          422879e10f46682990de24d770e7f83d     25\n",
       "Kerala             aca2eb7d00ea1a7b8ebd4e68314663af     13\n",
       "Madhya Pradesh     d1c427060a0f73f6b889a5c7c61f2ac4     27\n",
       "Maharashtra        99a4788cb24856965c36a24e339b6058     13\n",
       "Orissa             aca2eb7d00ea1a7b8ebd4e68314663af      7\n",
       "Punjab             60ee9861f35c13d4a3a2bc10e86bb05b     10\n",
       "Rajasthan          afc6bc70dc56fcf15c7f9f1e4bc67dda      7\n",
       "Tamil Nadu         b532349fe46b38fbc7bb3914c1bdae07     13\n",
       "Uttar Pradesh      3dd2a17168ec895c781a9191c1e95ad7      8\n",
       "Uttaranchal        53759a2ecddad2bb87a079a1f1519f73      3\n",
       "West Bengal        99a4788cb24856965c36a24e339b6058      6\n",
       "Name: count, dtype: int64"
      ]
     },
     "execution_count": 61,
     "metadata": {},
     "output_type": "execute_result"
    }
   ],
   "source": [
    "freq=data.groupby('customer_state')['product_id'].value_counts()\n",
    "top1 = freq.groupby('customer_state').head(1)\n",
    "print('popular products by customer_state')\n",
    "top1"
   ]
  },
  {
   "cell_type": "code",
   "execution_count": 62,
   "metadata": {},
   "outputs": [
    {
     "name": "stdout",
     "output_type": "stream",
     "text": [
      "popular products by product_category_name\n"
     ]
    },
    {
     "data": {
      "text/plain": [
       "product_category_name       product_id                      \n",
       "Agro_Industry_And_Commerce  11250b0d4b709fee92441c5f34122aed     44\n",
       "Air_Conditioning            98e91d0f32954dcd8505875bb2b42cdb     17\n",
       "Art                         4fe644d766c7566dbc46fb851363cb3b    109\n",
       "Arts_And_Craftmanship       b9976e9c22fb1540bd71d1bcd2989475      5\n",
       "Audio                       db5efde3ad0cc579b130d71c4b2db522     50\n",
       "                                                               ... \n",
       "Stationery                  fb55982be901439613a95940feefd9ee     85\n",
       "Tablets_Printing_Image      6bbe55cf8f85c87b6eebb775a53402f4     35\n",
       "Telephony                   e7cc48a9daff5436f63d3aad9426f28b     99\n",
       "Toys                        880be32f4db1d9f6e2bec38fb6ac23ab    105\n",
       "Watches_Gifts               53b36df67ebb7c41585e8d54d6772e08    326\n",
       "Name: count, Length: 71, dtype: int64"
      ]
     },
     "execution_count": 62,
     "metadata": {},
     "output_type": "execute_result"
    }
   ],
   "source": [
    "freq=data.groupby('product_category_name')['product_id'].value_counts()\n",
    "top1 = freq.groupby('product_category_name').head(1)\n",
    "print('popular products by product_category_name')\n",
    "top1"
   ]
  },
  {
   "cell_type": "code",
   "execution_count": 65,
   "metadata": {},
   "outputs": [
    {
     "name": "stdout",
     "output_type": "stream",
     "text": [
      "popular product_category_name by month\n"
     ]
    },
    {
     "data": {
      "text/plain": [
       "month  product_category_name\n",
       "1      Bed_Bath_Table            969\n",
       "2      Computers_Accessories    1126\n",
       "3      Bed_Bath_Table           1163\n",
       "4      Bed_Bath_Table           1088\n",
       "5      Bed_Bath_Table           1207\n",
       "6      Bed_Bath_Table           1255\n",
       "7      Bed_Bath_Table           1278\n",
       "8      Bed_Bath_Table           1266\n",
       "9      Bed_Bath_Table            574\n",
       "10     Bed_Bath_Table            619\n",
       "11     Bed_Bath_Table           1035\n",
       "12     Bed_Bath_Table            587\n",
       "Name: count, dtype: int64"
      ]
     },
     "execution_count": 65,
     "metadata": {},
     "output_type": "execute_result"
    }
   ],
   "source": [
    "freq=data.groupby('month')['product_category_name'].value_counts()\n",
    "top1 = freq.groupby('month').head(1)\n",
    "print('popular product_category_name by month')\n",
    "top1"
   ]
  },
  {
   "cell_type": "code",
   "execution_count": 11,
   "metadata": {},
   "outputs": [
    {
     "name": "stdout",
     "output_type": "stream",
     "text": [
      "popular product_category_name by customer_state\n"
     ]
    },
    {
     "data": {
      "text/plain": [
       "MultiIndex([(   'Andhra Pradesh',      'Bed_Bath_Table'),\n",
       "            ('Arunachal Pradesh',      'Bed_Bath_Table'),\n",
       "            (     'Chhattisgarh',      'Bed_Bath_Table'),\n",
       "            (            'Delhi',       'Health_Beauty'),\n",
       "            (              'Goa', 'Musical_Instruments'),\n",
       "            (          'Gujarat',      'Bed_Bath_Table'),\n",
       "            (          'Haryana',      'Bed_Bath_Table'),\n",
       "            ( 'Himachal Pradesh',      'Bed_Bath_Table'),\n",
       "            (  'Jammu & Kashmir',      'Bed_Bath_Table'),\n",
       "            (        'Karnataka',      'Bed_Bath_Table'),\n",
       "            (           'Kerala',      'Bed_Bath_Table'),\n",
       "            (   'Madhya Pradesh',      'Bed_Bath_Table'),\n",
       "            (      'Maharashtra',      'Bed_Bath_Table'),\n",
       "            (           'Orissa',      'Bed_Bath_Table'),\n",
       "            (           'Punjab',       'Health_Beauty'),\n",
       "            (        'Rajasthan',      'Sports_Leisure'),\n",
       "            (       'Tamil Nadu',      'Bed_Bath_Table'),\n",
       "            (    'Uttar Pradesh',       'Health_Beauty'),\n",
       "            (      'Uttaranchal',          'Cool_Stuff'),\n",
       "            (      'West Bengal',       'Health_Beauty')],\n",
       "           names=['customer_state', 'product_category_name'])"
      ]
     },
     "execution_count": 11,
     "metadata": {},
     "output_type": "execute_result"
    }
   ],
   "source": [
    "freq=data.groupby('customer_state')['product_category_name'].value_counts()\n",
    "top1 = freq.groupby('customer_state').head(1).index\n",
    "print('popular product_category_name by customer_state')\n",
    "top1"
   ]
  },
  {
   "cell_type": "code",
   "execution_count": 12,
   "metadata": {},
   "outputs": [
    {
     "name": "stdout",
     "output_type": "stream",
     "text": [
      "popular product_category_name by month\n"
     ]
    },
    {
     "data": {
      "text/plain": [
       "MultiIndex([( 1,        'Bed_Bath_Table'),\n",
       "            ( 2, 'Computers_Accessories'),\n",
       "            ( 3,        'Bed_Bath_Table'),\n",
       "            ( 4,        'Bed_Bath_Table'),\n",
       "            ( 5,        'Bed_Bath_Table'),\n",
       "            ( 6,        'Bed_Bath_Table'),\n",
       "            ( 7,        'Bed_Bath_Table'),\n",
       "            ( 8,        'Bed_Bath_Table'),\n",
       "            ( 9,        'Bed_Bath_Table'),\n",
       "            (10,        'Bed_Bath_Table'),\n",
       "            (11,        'Bed_Bath_Table'),\n",
       "            (12,        'Bed_Bath_Table')],\n",
       "           names=['month', 'product_category_name'])"
      ]
     },
     "execution_count": 12,
     "metadata": {},
     "output_type": "execute_result"
    }
   ],
   "source": [
    "freq=data.groupby('month')['product_category_name'].value_counts()\n",
    "top1 = freq.groupby('month').head(1).index\n",
    "print('popular product_category_name by month')\n",
    "top1"
   ]
  },
  {
   "cell_type": "code",
   "execution_count": 20,
   "metadata": {},
   "outputs": [],
   "source": [
    "top10 = data[['payment_value','product_id']]"
   ]
  },
  {
   "cell_type": "code",
   "execution_count": 22,
   "metadata": {},
   "outputs": [
    {
     "name": "stderr",
     "output_type": "stream",
     "text": [
      "C:\\Users\\karpi\\AppData\\Local\\Temp\\ipykernel_15804\\152128740.py:1: SettingWithCopyWarning: \n",
      "A value is trying to be set on a copy of a slice from a DataFrame\n",
      "\n",
      "See the caveats in the documentation: https://pandas.pydata.org/pandas-docs/stable/user_guide/indexing.html#returning-a-view-versus-a-copy\n",
      "  top10.drop_duplicates(inplace=True)\n"
     ]
    }
   ],
   "source": [
    "top10.drop_duplicates(inplace=True)"
   ]
  },
  {
   "cell_type": "code",
   "execution_count": 26,
   "metadata": {},
   "outputs": [
    {
     "data": {
      "text/html": [
       "<div>\n",
       "<style scoped>\n",
       "    .dataframe tbody tr th:only-of-type {\n",
       "        vertical-align: middle;\n",
       "    }\n",
       "\n",
       "    .dataframe tbody tr th {\n",
       "        vertical-align: top;\n",
       "    }\n",
       "\n",
       "    .dataframe thead th {\n",
       "        text-align: right;\n",
       "    }\n",
       "</style>\n",
       "<table border=\"1\" class=\"dataframe\">\n",
       "  <thead>\n",
       "    <tr style=\"text-align: right;\">\n",
       "      <th></th>\n",
       "      <th>payment_value</th>\n",
       "      <th>product_id</th>\n",
       "    </tr>\n",
       "  </thead>\n",
       "  <tbody>\n",
       "    <tr>\n",
       "      <th>75559</th>\n",
       "      <td>13664.08</td>\n",
       "      <td>5769ef0a239114ac3a854af00df129e4</td>\n",
       "    </tr>\n",
       "    <tr>\n",
       "      <th>7812</th>\n",
       "      <td>7274.88</td>\n",
       "      <td>19936fa4f614ee0590d3b77ac83fd648</td>\n",
       "    </tr>\n",
       "    <tr>\n",
       "      <th>15114</th>\n",
       "      <td>6929.31</td>\n",
       "      <td>489ae2aa008f021502940f251d4cce7f</td>\n",
       "    </tr>\n",
       "    <tr>\n",
       "      <th>113696</th>\n",
       "      <td>6922.21</td>\n",
       "      <td>69c590f7ffc7bf8db97190b6cb6ed62e</td>\n",
       "    </tr>\n",
       "    <tr>\n",
       "      <th>115827</th>\n",
       "      <td>6726.66</td>\n",
       "      <td>1bdf5e6731585cf01aa8169c7028d6ad</td>\n",
       "    </tr>\n",
       "    <tr>\n",
       "      <th>47580</th>\n",
       "      <td>6081.54</td>\n",
       "      <td>c183fd5d2abf05873fa6e1014ed9e06c</td>\n",
       "    </tr>\n",
       "    <tr>\n",
       "      <th>41915</th>\n",
       "      <td>4950.34</td>\n",
       "      <td>a6492cc69376c469ab6f61d8f44de961</td>\n",
       "    </tr>\n",
       "    <tr>\n",
       "      <th>6383</th>\n",
       "      <td>4809.44</td>\n",
       "      <td>3db0b74faf0d26a6b252528659d6b849</td>\n",
       "    </tr>\n",
       "    <tr>\n",
       "      <th>10254</th>\n",
       "      <td>4764.34</td>\n",
       "      <td>c3ed642d592594bb648ff4a04cee2747</td>\n",
       "    </tr>\n",
       "    <tr>\n",
       "      <th>64130</th>\n",
       "      <td>4681.78</td>\n",
       "      <td>259037a6a41845e455183f89c5035f18</td>\n",
       "    </tr>\n",
       "  </tbody>\n",
       "</table>\n",
       "</div>"
      ],
      "text/plain": [
       "        payment_value                        product_id\n",
       "75559        13664.08  5769ef0a239114ac3a854af00df129e4\n",
       "7812          7274.88  19936fa4f614ee0590d3b77ac83fd648\n",
       "15114         6929.31  489ae2aa008f021502940f251d4cce7f\n",
       "113696        6922.21  69c590f7ffc7bf8db97190b6cb6ed62e\n",
       "115827        6726.66  1bdf5e6731585cf01aa8169c7028d6ad\n",
       "47580         6081.54  c183fd5d2abf05873fa6e1014ed9e06c\n",
       "41915         4950.34  a6492cc69376c469ab6f61d8f44de961\n",
       "6383          4809.44  3db0b74faf0d26a6b252528659d6b849\n",
       "10254         4764.34  c3ed642d592594bb648ff4a04cee2747\n",
       "64130         4681.78  259037a6a41845e455183f89c5035f18"
      ]
     },
     "execution_count": 26,
     "metadata": {},
     "output_type": "execute_result"
    }
   ],
   "source": [
    "top10.sort_values(by='payment_value',ascending=False).head(10)"
   ]
  },
  {
   "cell_type": "code",
   "execution_count": 41,
   "metadata": {},
   "outputs": [
    {
     "data": {
      "text/plain": [
       "customer_id\n",
       "00012a2ce6f8dcda20d059ce98491703    Group 2\n",
       "000161a058600d5901f007fab4c27140    Group 3\n",
       "0001fd6190edaaf884bcaf3d49edf079    Group 2\n",
       "0002414f95344307404f0ace7a26f1d5    Group 2\n",
       "000379cdec625522490c315e70c7a9fb    Group 3\n",
       "                                     ...   \n",
       "fffcb937e9dd47a13f05ecb8290f4d3e    Group 3\n",
       "fffecc9f79fd8c764f843e9951b11341    Group 3\n",
       "fffeda5b6d849fbd39689bb92087f431    Group 3\n",
       "ffff42319e9b2d713724ae527742af25    Group 1\n",
       "ffffa3172527f765de70084a7e53aae8    Group 3\n",
       "Name: payment_value, Length: 98391, dtype: category\n",
       "Categories (4, object): ['Group 4' < 'Group 3' < 'Group 2' < 'Group 1']"
      ]
     },
     "execution_count": 41,
     "metadata": {},
     "output_type": "execute_result"
    }
   ],
   "source": [
    "cust_segment = data.groupby('customer_id')['payment_value'].sum()\n",
    "\n",
    "mybins = pd.qcut(cust_segment, q=4, labels=[\"Group 4\", \"Group 3\", \"Group 2\", \"Group 1\"])\n",
    "mybins"
   ]
  },
  {
   "cell_type": "code",
   "execution_count": 42,
   "metadata": {},
   "outputs": [
    {
     "data": {
      "text/plain": [
       "seller_id\n",
       "0015a82c2db000af6aaaf3ae2ecb0532    Group 2\n",
       "001cca7ae9ae17fb1caed9dfb1094831    Group 1\n",
       "001e6ad469a905060d959994f1b41e4f    Group 4\n",
       "002100f778ceb8431b7a1020ff7ab48f    Group 2\n",
       "003554e2dce176b5555353e4f3555ac8    Group 4\n",
       "                                     ...   \n",
       "ffcfefa19b08742c5d315f2791395ee5    Group 4\n",
       "ffdd9f82b9a447f6f8d4b91554cc7dd3    Group 2\n",
       "ffeee66ac5d5a62fe688b9d26f83f534    Group 2\n",
       "fffd5413c0700ac820c7069d66d98c89    Group 1\n",
       "ffff564a4f9085cd26170f4732393726    Group 2\n",
       "Name: payment_value, Length: 3095, dtype: category\n",
       "Categories (4, object): ['Group 4' < 'Group 3' < 'Group 2' < 'Group 1']"
      ]
     },
     "execution_count": 42,
     "metadata": {},
     "output_type": "execute_result"
    }
   ],
   "source": [
    "seller_segment = data.groupby('seller_id')['payment_value'].sum()\n",
    "\n",
    "mybins = pd.qcut(seller_segment, q=4, labels=[\"Group 4\", \"Group 3\", \"Group 2\", \"Group 1\"])\n",
    "mybins"
   ]
  },
  {
   "cell_type": "code",
   "execution_count": 95,
   "metadata": {},
   "outputs": [
    {
     "data": {
      "text/plain": [
       "array([ 1,  2,  3,  4,  7,  9, 10,  5,  6,  8, 11, 12, 13, 14, 15, 16, 17,\n",
       "       18, 19, 20, 21], dtype=int64)"
      ]
     },
     "execution_count": 95,
     "metadata": {},
     "output_type": "execute_result"
    }
   ],
   "source": [
    "data['order_item_id'].unique()"
   ]
  },
  {
   "cell_type": "code",
   "execution_count": 13,
   "metadata": {},
   "outputs": [],
   "source": [
    "grouped = pd.crosstab(data['order_id'],data['order_item_id'])\n",
    "grouped=grouped.reset_index()\n",
    "grouped.drop(columns='order_id',inplace=True)"
   ]
  },
  {
   "cell_type": "code",
   "execution_count": 30,
   "metadata": {},
   "outputs": [],
   "source": [
    "mygroup = pd.DataFrame(columns=['col1','freq'])"
   ]
  },
  {
   "cell_type": "code",
   "execution_count": 31,
   "metadata": {},
   "outputs": [],
   "source": [
    "from collections import Counter\n",
    "from itertools import combinations\n",
    "\n",
    "for i in combinations(grouped.columns,2):\n",
    "    x,y = i\n",
    "    mygroup.loc[len(mygroup),['col1','freq']]=(x,y),len(grouped[(grouped[x]==grouped[y])&(grouped[x]==1)])\n",
    "\n",
    "for i in combinations(grouped.columns,3):\n",
    "    x,y,z = i\n",
    "    mygroup.loc[len(mygroup),['col1','freq']]=(x,y),len(grouped[(grouped[x]==grouped[y])&(grouped[x]==grouped[z])&(grouped[x]!=0)])"
   ]
  },
  {
   "cell_type": "code",
   "execution_count": 32,
   "metadata": {},
   "outputs": [
    {
     "data": {
      "text/html": [
       "<div>\n",
       "<style scoped>\n",
       "    .dataframe tbody tr th:only-of-type {\n",
       "        vertical-align: middle;\n",
       "    }\n",
       "\n",
       "    .dataframe tbody tr th {\n",
       "        vertical-align: top;\n",
       "    }\n",
       "\n",
       "    .dataframe thead th {\n",
       "        text-align: right;\n",
       "    }\n",
       "</style>\n",
       "<table border=\"1\" class=\"dataframe\">\n",
       "  <thead>\n",
       "    <tr style=\"text-align: right;\">\n",
       "      <th></th>\n",
       "      <th>col1</th>\n",
       "      <th>freq</th>\n",
       "    </tr>\n",
       "  </thead>\n",
       "  <tbody>\n",
       "    <tr>\n",
       "      <th>0</th>\n",
       "      <td>(1, 2)</td>\n",
       "      <td>9438</td>\n",
       "    </tr>\n",
       "    <tr>\n",
       "      <th>1</th>\n",
       "      <td>(1, 3)</td>\n",
       "      <td>2217</td>\n",
       "    </tr>\n",
       "    <tr>\n",
       "      <th>2</th>\n",
       "      <td>(1, 4)</td>\n",
       "      <td>937</td>\n",
       "    </tr>\n",
       "    <tr>\n",
       "      <th>3</th>\n",
       "      <td>(1, 5)</td>\n",
       "      <td>449</td>\n",
       "    </tr>\n",
       "    <tr>\n",
       "      <th>4</th>\n",
       "      <td>(1, 6)</td>\n",
       "      <td>250</td>\n",
       "    </tr>\n",
       "    <tr>\n",
       "      <th>5</th>\n",
       "      <td>(1, 7)</td>\n",
       "      <td>56</td>\n",
       "    </tr>\n",
       "    <tr>\n",
       "      <th>6</th>\n",
       "      <td>(1, 8)</td>\n",
       "      <td>35</td>\n",
       "    </tr>\n",
       "    <tr>\n",
       "      <th>7</th>\n",
       "      <td>(1, 9)</td>\n",
       "      <td>27</td>\n",
       "    </tr>\n",
       "    <tr>\n",
       "      <th>8</th>\n",
       "      <td>(1, 10)</td>\n",
       "      <td>24</td>\n",
       "    </tr>\n",
       "    <tr>\n",
       "      <th>9</th>\n",
       "      <td>(1, 11)</td>\n",
       "      <td>16</td>\n",
       "    </tr>\n",
       "  </tbody>\n",
       "</table>\n",
       "</div>"
      ],
      "text/plain": [
       "      col1  freq\n",
       "0   (1, 2)  9438\n",
       "1   (1, 3)  2217\n",
       "2   (1, 4)   937\n",
       "3   (1, 5)   449\n",
       "4   (1, 6)   250\n",
       "5   (1, 7)    56\n",
       "6   (1, 8)    35\n",
       "7   (1, 9)    27\n",
       "8  (1, 10)    24\n",
       "9  (1, 11)    16"
      ]
     },
     "execution_count": 32,
     "metadata": {},
     "output_type": "execute_result"
    }
   ],
   "source": [
    "mygroup.head(10).sort_values(by='freq',ascending=False)"
   ]
  },
  {
   "cell_type": "code",
   "execution_count": 38,
   "metadata": {},
   "outputs": [
    {
     "data": {
      "text/plain": [
       "payment_type\n",
       "credit_card    87026\n",
       "UPI            22957\n",
       "voucher         6317\n",
       "debit_card      1698\n",
       "Name: count, dtype: int64"
      ]
     },
     "execution_count": 38,
     "metadata": {},
     "output_type": "execute_result"
    }
   ],
   "source": [
    "data['payment_type'].value_counts()"
   ]
  },
  {
   "attachments": {},
   "cell_type": "markdown",
   "metadata": {},
   "source": [
    "A4b: people use credit card to pay often"
   ]
  },
  {
   "cell_type": "code",
   "execution_count": 44,
   "metadata": {},
   "outputs": [
    {
     "data": {
      "text/plain": [
       "product_category_name\n",
       "Cds_Dvds_Musicals            4.642857\n",
       "Fashion_Childrens_Clothes    4.500000\n",
       "Books_General_Interest       4.430851\n",
       "Books_Imported               4.419355\n",
       "Books_Technical              4.345588\n",
       "                               ...   \n",
       "Fashion_Male_Clothing        3.531034\n",
       "Office_Furniture             3.516274\n",
       "Home_Comfort_2               3.387097\n",
       "Diapers_And_Hygiene          3.256410\n",
       "Security_And_Services        2.500000\n",
       "Name: review_score, Length: 71, dtype: float64"
      ]
     },
     "execution_count": 44,
     "metadata": {},
     "output_type": "execute_result"
    }
   ],
   "source": [
    "data.groupby('product_category_name')['review_score'].mean().sort_values(ascending=False).head(10)"
   ]
  },
  {
   "cell_type": "code",
   "execution_count": 45,
   "metadata": {},
   "outputs": [
    {
     "data": {
      "text/plain": [
       "product_category_name\n",
       "Security_And_Services                2.500000\n",
       "Diapers_And_Hygiene                  3.256410\n",
       "Home_Comfort_2                       3.387097\n",
       "Office_Furniture                     3.516274\n",
       "Fashion_Male_Clothing                3.531034\n",
       "Fixed_Telephony                      3.660517\n",
       "Fashio_Female_Clothing               3.780000\n",
       "Furniture_Mattress_And_Upholstery    3.804878\n",
       "Audio                                3.823684\n",
       "Construction_Tools_Safety            3.834171\n",
       "Name: review_score, dtype: float64"
      ]
     },
     "execution_count": 45,
     "metadata": {},
     "output_type": "execute_result"
    }
   ],
   "source": [
    "data.groupby('product_category_name')['review_score'].mean().sort_values(ascending=True).head(10)"
   ]
  },
  {
   "cell_type": "code",
   "execution_count": 46,
   "metadata": {},
   "outputs": [
    {
     "data": {
      "text/plain": [
       "product_id\n",
       "00066f42aeeb9f3007548bb9d3f33c38    5.0\n",
       "865bfa00c1dad8f4146d3c2765f051ca    5.0\n",
       "868969d3a93aeeab7bfcd4fc3d3d65de    5.0\n",
       "868766ed2172644fdd977d6bd395a107    5.0\n",
       "8684bd8f93b4f4038d07188a23811e93    5.0\n",
       "867c96d2bb67aba6500a4c509cf76072    5.0\n",
       "867b820367ec206b38a357f2c12454b7    5.0\n",
       "867901d7e8488fb97f1fb538c09d476e    5.0\n",
       "86743ff92eee3d16b7df59cddd583b8c    5.0\n",
       "8657986fc307b1b749c57763b90795f8    5.0\n",
       "Name: review_score, dtype: float64"
      ]
     },
     "execution_count": 46,
     "metadata": {},
     "output_type": "execute_result"
    }
   ],
   "source": [
    "data.groupby('product_id')['review_score'].mean().sort_values(ascending=False).head(10)"
   ]
  },
  {
   "cell_type": "code",
   "execution_count": 47,
   "metadata": {},
   "outputs": [
    {
     "data": {
      "text/plain": [
       "product_id\n",
       "7f6b034a2bb30ba8e1da93017a86bd58    1.0\n",
       "188a7a06ef624d9549bad5dea5e84ea6    1.0\n",
       "8f08d9a3c02538bfb6110150a8bbad07    1.0\n",
       "4432acdc80e1b1f73f9f355f12ecd60f    1.0\n",
       "1890c01a38d17958d79fe473d451dc9c    1.0\n",
       "442cec8fcec2cb2c32671cd0dfb02971    1.0\n",
       "8f1138aa9a4a3c0127a10b19fe956cee    1.0\n",
       "8f19c4fa78ba4a8d037bc977eef22927    1.0\n",
       "d57df0660328af2e535fa009f227d575    1.0\n",
       "8f1e43e0e3374ed8c84df748034d6179    1.0\n",
       "Name: review_score, dtype: float64"
      ]
     },
     "execution_count": 47,
     "metadata": {},
     "output_type": "execute_result"
    }
   ],
   "source": [
    "data.groupby('product_id')['review_score'].mean().sort_values(ascending=True).head(10)"
   ]
  },
  {
   "cell_type": "code",
   "execution_count": 49,
   "metadata": {},
   "outputs": [
    {
     "data": {
      "text/plain": [
       "customer_city\n",
       "Aadityana         3.968750\n",
       "Aambaliyasan      3.500000\n",
       "Aantaliya         3.870370\n",
       "Aarambhada        3.596154\n",
       "Abiramam          5.000000\n",
       "                    ...   \n",
       "Zamin Uthukuli    4.000000\n",
       "Ziauddin Pur      4.037267\n",
       "Zira              4.600000\n",
       "Zirakpur          4.500000\n",
       "Ziro              3.964286\n",
       "Name: review_score, Length: 4066, dtype: float64"
      ]
     },
     "execution_count": 49,
     "metadata": {},
     "output_type": "execute_result"
    }
   ],
   "source": [
    "data.groupby('customer_city')['review_score'].mean()"
   ]
  },
  {
   "cell_type": "code",
   "execution_count": 48,
   "metadata": {},
   "outputs": [
    {
     "data": {
      "text/plain": [
       "seller_id\n",
       "0015a82c2db000af6aaaf3ae2ecb0532    3.666667\n",
       "001cca7ae9ae17fb1caed9dfb1094831    3.883817\n",
       "001e6ad469a905060d959994f1b41e4f    1.000000\n",
       "002100f778ceb8431b7a1020ff7ab48f    4.033898\n",
       "003554e2dce176b5555353e4f3555ac8    5.000000\n",
       "                                      ...   \n",
       "ffcfefa19b08742c5d315f2791395ee5    1.000000\n",
       "ffdd9f82b9a447f6f8d4b91554cc7dd3    4.285714\n",
       "ffeee66ac5d5a62fe688b9d26f83f534    4.214286\n",
       "fffd5413c0700ac820c7069d66d98c89    3.838710\n",
       "ffff564a4f9085cd26170f4732393726    2.100000\n",
       "Name: review_score, Length: 3095, dtype: float64"
      ]
     },
     "execution_count": 48,
     "metadata": {},
     "output_type": "execute_result"
    }
   ],
   "source": [
    "data.groupby('seller_id')['review_score'].mean()"
   ]
  },
  {
   "cell_type": "code",
   "execution_count": 50,
   "metadata": {},
   "outputs": [
    {
     "data": {
      "text/plain": [
       "product_category_name\n",
       "Agro_Industry_And_Commerce    4.150794\n",
       "Air_Conditioning              3.920530\n",
       "Art                           3.917808\n",
       "Arts_And_Craftmanship         4.125000\n",
       "Audio                         3.823684\n",
       "                                ...   \n",
       "Stationery                    4.175325\n",
       "Tablets_Printing_Image        4.045977\n",
       "Telephony                     3.935456\n",
       "Toys                          4.143359\n",
       "Watches_Gifts                 4.000646\n",
       "Name: review_score, Length: 71, dtype: float64"
      ]
     },
     "execution_count": 50,
     "metadata": {},
     "output_type": "execute_result"
    }
   ],
   "source": [
    "data.groupby('product_category_name')['review_score'].mean()"
   ]
  },
  {
   "cell_type": "code",
   "execution_count": 53,
   "metadata": {},
   "outputs": [
    {
     "data": {
      "text/plain": [
       "month\n",
       "1     3.942982\n",
       "2     3.788977\n",
       "3     3.780309\n",
       "4     4.036007\n",
       "5     4.118899\n",
       "6     4.156530\n",
       "7     4.170133\n",
       "8     4.205108\n",
       "9     4.122441\n",
       "10    4.011688\n",
       "11    3.826552\n",
       "12    3.927018\n",
       "Name: review_score, dtype: float64"
      ]
     },
     "execution_count": 53,
     "metadata": {},
     "output_type": "execute_result"
    }
   ],
   "source": [
    "data.groupby('month')['review_score'].mean()"
   ]
  },
  {
   "cell_type": "code",
   "execution_count": null,
   "metadata": {},
   "outputs": [],
   "source": []
  }
 ],
 "metadata": {
  "kernelspec": {
   "display_name": "Python 3",
   "language": "python",
   "name": "python3"
  },
  "language_info": {
   "codemirror_mode": {
    "name": "ipython",
    "version": 3
   },
   "file_extension": ".py",
   "mimetype": "text/x-python",
   "name": "python",
   "nbconvert_exporter": "python",
   "pygments_lexer": "ipython3",
   "version": "3.11.1"
  },
  "orig_nbformat": 4
 },
 "nbformat": 4,
 "nbformat_minor": 2
}
